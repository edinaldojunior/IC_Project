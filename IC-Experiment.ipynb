{
 "cells": [
  {
   "cell_type": "markdown",
   "metadata": {},
   "source": [
    "## Contexto\n",
    "\n",
    "O comportamento agressivo de condução é o principal fator de acidentes de trânsito. Conforme relatado pela Fundação AAA para Segurança no Trânsito , 106.727 acidentes fatais – 55,7% do total – durante um período recente de quatro anos envolveram motoristas que cometeram uma ou mais ações agressivas de direção. Portanto, como prever o comportamento de condução perigosa com rapidez e precisão?\n",
    "\n",
    "## Abordagem da solução\n",
    "\n",
    "A condução agressiva inclui excesso de velocidade, frenagens repentinas e curvas repentinas à esquerda ou à direita. Todos esses eventos são refletidos nos dados do acelerômetro e do giroscópio. Por isso, sabendo que hoje em dia quase todo mundo possui um smartphone que possui uma grande variedade de sensores, foi utilizado dados de um aplicativo de coleta de dados em Android baseado nos sensores acelerômetro e giroscópio, para realizar a classificação do comportamento de motoristas, a partir do uso dos classificadores:\n",
    "    \n",
    "   * CatBoost\n",
    "   * LightGBM\n",
    "   * XGBoost\n",
    "   * Ensemble com os classificadores \n",
    "\n",
    "Para este projeto, foi utilizada uma técnica de redução de dimensionalidade, que visa escolher um subconjunto de recursos relevantes dos recursos originais, removendo recursos irrelevantes, redundantes ou ruidosos. A seleção de recursos geralmente pode levar a um melhor desempenho de aprendizado, maior precisão de aprendizado, menor custo computacional e melhor interpretabilidade do modelo. Este Trabalho utilizou o Binary Fish School Search Algorithm no processo de seleção de recursos, aumentando a precisão do classificador e reduzindo o número de atributos para a tarefa de classificação.\n",
    "\n",
    "O ponto crítico para encontrar os melhores modelos que podem resolver um problema não são apenas os tipos de modelos. É preciso encontrar os parâmetros ideais para que os modelos funcionem de maneira ideal, dado o conjunto de dados. Isso é chamado de localizar ou pesquisar hiperparâmetros. Neste trabalho utilizamos os seguintes algoritmos para este objetivo:\n",
    "    \n",
    "\n",
    "   * Particle Swarm Optimization (PSO)\n",
    "   * Genetic Algorithm\n",
    "\n",
    "A acurácia, AUC, Precisão, Recall são considerados através da realização de uma avaliação de aptidão. Os algoritmos de otimização foram avaliados usando os classificadores citados acima. O conjunto de dados Driving Behavior foi usado para treinar e avaliar os algoritmos. Os resultados mostram que o método é útil para reduzir o tempo de treinamento e aumentar a assertividade.\n",
    "\n",
    "\n",
    "Driving Behavior: https://www.kaggle.com/datasets/outofskills/driving-behavior\n"
   ]
  },
  {
   "cell_type": "code",
   "execution_count": null,
   "metadata": {},
   "outputs": [],
   "source": []
  },
  {
   "cell_type": "raw",
   "metadata": {
    "id": "AIKDM_UA3YOY"
   },
   "source": [
    "!pip install catboost\n",
    "!pip install pyswarms\n",
    "!pip install category_encoders\n",
    "!pip install xgboost\n",
    "!pip install lightgbm"
   ]
  },
  {
   "cell_type": "code",
   "execution_count": 2,
   "metadata": {
    "colab": {
     "base_uri": "https://localhost:8080/"
    },
    "executionInfo": {
     "elapsed": 2141,
     "status": "ok",
     "timestamp": 1656283268556,
     "user": {
      "displayName": "Victor Freire",
      "userId": "18258112772960334498"
     },
     "user_tz": 180
    },
    "id": "y_UAo4NF3Ddm",
    "outputId": "b3253215-1e8c-4313-d879-583926ed902b"
   },
   "outputs": [
    {
     "name": "stderr",
     "output_type": "stream",
     "text": [
      "2022-08-11 22:41:06,588 - numexpr.utils - INFO - NumExpr defaulting to 2 threads.\n",
      "/usr/local/lib/python3.7/dist-packages/statsmodels/tools/_testing.py:19: FutureWarning: pandas.util.testing is deprecated. Use the functions in the public API at pandas.testing instead.\n",
      "  import pandas.util.testing as tm\n"
     ]
    }
   ],
   "source": [
    "import pandas as pd\n",
    "import numpy as np\n",
    "import pickle\n",
    "from category_encoders.cat_boost import CatBoostEncoder\n",
    "from category_encoders.target_encoder import TargetEncoder\n",
    "from sklearn.preprocessing import MinMaxScaler\n",
    "from sklearn.model_selection import train_test_split\n",
    "from sklearn import metrics\n",
    "from catboost import CatBoostClassifier, Pool\n",
    "from lightgbm import LGBMClassifier\n",
    "from xgboost import XGBClassifier\n",
    "import joblib\n",
    "from BFSS import Fish, BFSS\n",
    "from integer_pso import IntOptimizerPSO"
   ]
  },
  {
   "cell_type": "code",
   "execution_count": 3,
   "metadata": {
    "executionInfo": {
     "elapsed": 6,
     "status": "ok",
     "timestamp": 1656283268556,
     "user": {
      "displayName": "Victor Freire",
      "userId": "18258112772960334498"
     },
     "user_tz": 180
    },
    "id": "81myTLg73Zb3"
   },
   "outputs": [],
   "source": [
    "df_train = pd.read_csv('/data/train_motion_data.csv')\n",
    "df_test = pd.read_csv('/data/test_motion_data.csv')"
   ]
  },
  {
   "cell_type": "code",
   "execution_count": 4,
   "metadata": {
    "colab": {
     "base_uri": "https://localhost:8080/"
    },
    "executionInfo": {
     "elapsed": 5,
     "status": "ok",
     "timestamp": 1656283268556,
     "user": {
      "displayName": "Victor Freire",
      "userId": "18258112772960334498"
     },
     "user_tz": 180
    },
    "id": "K6GCNwDxlAbT",
    "outputId": "fc025ac9-60a2-4cde-f437-46ccde15791f"
   },
   "outputs": [
    {
     "data": {
      "text/plain": [
       "SLOW          1331\n",
       "NORMAL        1200\n",
       "AGGRESSIVE    1113\n",
       "Name: Class, dtype: int64"
      ]
     },
     "execution_count": 4,
     "metadata": {},
     "output_type": "execute_result"
    }
   ],
   "source": [
    "df_train['Class'].value_counts()"
   ]
  },
  {
   "cell_type": "code",
   "execution_count": 5,
   "metadata": {
    "executionInfo": {
     "elapsed": 5,
     "status": "ok",
     "timestamp": 1656283268557,
     "user": {
      "displayName": "Victor Freire",
      "userId": "18258112772960334498"
     },
     "user_tz": 180
    },
    "id": "9TmyNA6g5NNX"
   },
   "outputs": [],
   "source": [
    "X_test = df_test.drop(columns = ['Class', 'Timestamp'])\n",
    "y_test = df_test['Class']\n",
    "\n",
    "X_train = df_train.drop(columns = ['Class', 'Timestamp'])\n",
    "y_train = df_train['Class']"
   ]
  },
  {
   "cell_type": "code",
   "execution_count": 6,
   "metadata": {
    "executionInfo": {
     "elapsed": 366,
     "status": "ok",
     "timestamp": 1656283268918,
     "user": {
      "displayName": "Victor Freire",
      "userId": "18258112772960334498"
     },
     "user_tz": 180
    },
    "id": "6KGBKXfC6bnt"
   },
   "outputs": [],
   "source": [
    "X_train, X_val, y_train, y_val = train_test_split(X_train, y_train, test_size = 0.2, random_state = 42)"
   ]
  },
  {
   "cell_type": "code",
   "execution_count": 7,
   "metadata": {
    "colab": {
     "base_uri": "https://localhost:8080/"
    },
    "executionInfo": {
     "elapsed": 2,
     "status": "ok",
     "timestamp": 1656283268918,
     "user": {
      "displayName": "Victor Freire",
      "userId": "18258112772960334498"
     },
     "user_tz": 180
    },
    "id": "GnRfi7jRoRtI",
    "outputId": "6763688d-9782-4eda-e766-3a0c29f2196f"
   },
   "outputs": [
    {
     "name": "stdout",
     "output_type": "stream",
     "text": [
      "SLOW          1082\n",
      "NORMAL         931\n",
      "AGGRESSIVE     902\n",
      "Name: Class, dtype: int64\n",
      "NORMAL        269\n",
      "SLOW          249\n",
      "AGGRESSIVE    211\n",
      "Name: Class, dtype: int64\n",
      "SLOW          1273\n",
      "NORMAL         997\n",
      "AGGRESSIVE     814\n",
      "Name: Class, dtype: int64\n"
     ]
    }
   ],
   "source": [
    "print(y_train.value_counts())\n",
    "print(y_val.value_counts())\n",
    "print(y_test.value_counts())"
   ]
  },
  {
   "cell_type": "code",
   "execution_count": 8,
   "metadata": {
    "executionInfo": {
     "elapsed": 358,
     "status": "ok",
     "timestamp": 1656283273769,
     "user": {
      "displayName": "Victor Freire",
      "userId": "18258112772960334498"
     },
     "user_tz": 180
    },
    "id": "EXOcjlwq60_o"
   },
   "outputs": [],
   "source": [
    "def normalize(X, features, tipo_dado, name_norm=\"norm.pkl\"):\n",
    "    if tipo_dado == 'Treinamento':\n",
    "        le = MinMaxScaler().fit(X[features])\n",
    "        X[features] = le.transform(X[features])\n",
    "        joblib.dump(le, name_norm)\n",
    "    elif tipo_dado == 'Teste':\n",
    "        le = joblib.load(name_norm)\n",
    "        X[features] = le.transform(X[features])\n",
    "    return X"
   ]
  },
  {
   "cell_type": "code",
   "execution_count": 9,
   "metadata": {
    "executionInfo": {
     "elapsed": 2,
     "status": "ok",
     "timestamp": 1656283274178,
     "user": {
      "displayName": "Victor Freire",
      "userId": "18258112772960334498"
     },
     "user_tz": 180
    },
    "id": "I22t1AxL89cZ"
   },
   "outputs": [],
   "source": [
    "X_train = normalize(X_train, X_train.columns, 'Treinamento')\n",
    "X_val = normalize(X_val, X_train.columns, 'Teste')\n",
    "X_test = normalize(X_test, X_train.columns, 'Teste')"
   ]
  },
  {
   "cell_type": "code",
   "execution_count": 12,
   "metadata": {
    "executionInfo": {
     "elapsed": 298,
     "status": "ok",
     "timestamp": 1656281341306,
     "user": {
      "displayName": "Victor Freire",
      "userId": "18258112772960334498"
     },
     "user_tz": 180
    },
    "id": "QALkRGlL9kBA"
   },
   "outputs": [],
   "source": [
    "import random\n",
    "class FitnessFuncion(object):\n",
    "    dim = 6\n",
    "    minf = 2\n",
    "    maxf = 6\n",
    "\n",
    "    def evaluate(position):\n",
    "        if (position == [0]*6).all():\n",
    "          position = np.array([1,1,0,0,0,0])\n",
    "          np.random.shuffle(position)\n",
    "        features = X_train.columns\n",
    "        idx_selected = np.where(position == 1)[0]\n",
    "        selected_features = []\n",
    "        for idx in idx_selected:\n",
    "          selected_features.append(features[idx])\n",
    "\n",
    "        X_train_alpha = X_train[selected_features]\n",
    "        X_val_alpha = X_val[selected_features]\n",
    "\n",
    "        catboost = CatBoostClassifier(verbose=False, max_depth=4)\n",
    "        train_data = Pool(data=X_train_alpha,label=y_train)\n",
    "        eval_data = Pool(data=X_val_alpha,label=y_val)\n",
    "        catboost.fit(X=train_data, eval_set=eval_data,plot=False)\n",
    "\n",
    "        y_train_catboost = catboost.predict_proba(X_train_alpha)\n",
    "        y_val_catboost = catboost.predict_proba(X_val_alpha)\n",
    "        acc_train = metrics.roc_auc_score(y_train,y_train_catboost, multi_class = 'ovo', average = 'macro')\n",
    "        acc_val = metrics.roc_auc_score(y_val,y_val_catboost, multi_class = 'ovo', average = 'macro')\n",
    "        cost = acc_val\n",
    "\n",
    "        return cost, acc_val, acc_train, selected_features\n"
   ]
  },
  {
   "cell_type": "markdown",
   "metadata": {
    "id": "Y5vJgLRlF-Ot"
   },
   "source": [
    "## BFSS for Feature Selection"
   ]
  },
  {
   "cell_type": "code",
   "execution_count": 12,
   "metadata": {
    "executionInfo": {
     "elapsed": 385,
     "status": "ok",
     "timestamp": 1655949347475,
     "user": {
      "displayName": "Victor Freire",
      "userId": "18258112772960334498"
     },
     "user_tz": 180
    },
    "id": "TORNuzlcAONA"
   },
   "outputs": [],
   "source": [
    "bfss = BFSS(FitnessFuncion, 20, 20, 1, 1.2, 0.8, 0.7, 0.2, 0.6)"
   ]
  },
  {
   "cell_type": "code",
   "execution_count": 13,
   "metadata": {
    "executionInfo": {
     "elapsed": 1803945,
     "status": "ok",
     "timestamp": 1655951167870,
     "user": {
      "displayName": "Victor Freire",
      "userId": "18258112772960334498"
     },
     "user_tz": 180
    },
    "id": "iidtEJfkRe1N"
   },
   "outputs": [],
   "source": [
    "bfss.optimize()"
   ]
  },
  {
   "cell_type": "code",
   "execution_count": 15,
   "metadata": {
    "colab": {
     "base_uri": "https://localhost:8080/"
    },
    "executionInfo": {
     "elapsed": 297,
     "status": "ok",
     "timestamp": 1655951269778,
     "user": {
      "displayName": "Victor Freire",
      "userId": "18258112772960334498"
     },
     "user_tz": 180
    },
    "id": "lL05KJxAYnwh",
    "outputId": "afdf139d-6bf3-4838-a557-9db8a95f0c9f"
   },
   "outputs": [
    {
     "data": {
      "text/plain": [
       "['AccX', 'AccY', 'AccZ']"
      ]
     },
     "execution_count": 15,
     "metadata": {},
     "output_type": "execute_result"
    }
   ],
   "source": [
    "bfss.best_agent.features"
   ]
  },
  {
   "cell_type": "code",
   "execution_count": 16,
   "metadata": {
    "colab": {
     "base_uri": "https://localhost:8080/"
    },
    "executionInfo": {
     "elapsed": 312,
     "status": "ok",
     "timestamp": 1655951283688,
     "user": {
      "displayName": "Victor Freire",
      "userId": "18258112772960334498"
     },
     "user_tz": 180
    },
    "id": "rTvrAJ9GYzUt",
    "outputId": "fcd21ef9-aaa1-4696-8226-5c3df8e7941d"
   },
   "outputs": [
    {
     "data": {
      "text/plain": [
       "0.6041160831890905"
      ]
     },
     "execution_count": 16,
     "metadata": {},
     "output_type": "execute_result"
    }
   ],
   "source": [
    "bfss.best_agent.cost"
   ]
  },
  {
   "cell_type": "code",
   "execution_count": 11,
   "metadata": {
    "executionInfo": {
     "elapsed": 300,
     "status": "ok",
     "timestamp": 1656283303768,
     "user": {
      "displayName": "Victor Freire",
      "userId": "18258112772960334498"
     },
     "user_tz": 180
    },
    "id": "oIB6S8OUY2_I"
   },
   "outputs": [],
   "source": [
    "X_train = X_train[['AccX', 'AccY', 'AccZ']]\n",
    "X_val = X_val[['AccX', 'AccY', 'AccZ']]\n",
    "X_test = X_test[['AccX', 'AccY', 'AccZ']]"
   ]
  },
  {
   "cell_type": "markdown",
   "metadata": {
    "id": "-eGoHXT4D9ZJ"
   },
   "source": [
    "### Creating DataFrame to Compare"
   ]
  },
  {
   "cell_type": "code",
   "execution_count": 71,
   "metadata": {
    "executionInfo": {
     "elapsed": 286,
     "status": "ok",
     "timestamp": 1656293172204,
     "user": {
      "displayName": "Victor Freire",
      "userId": "18258112772960334498"
     },
     "user_tz": 180
    },
    "id": "2hq1PhWiEAZ9"
   },
   "outputs": [],
   "source": [
    "df_comparison = pd.DataFrame()"
   ]
  },
  {
   "cell_type": "markdown",
   "metadata": {
    "id": "JwHxz2_QGB_J"
   },
   "source": [
    "##PSO for Hyperparameters Tunning"
   ]
  },
  {
   "cell_type": "markdown",
   "metadata": {
    "id": "MyytIYeUGGcs"
   },
   "source": [
    "###Catboost"
   ]
  },
  {
   "cell_type": "markdown",
   "metadata": {
    "id": "RSefzvPIGmpG"
   },
   "source": [
    "#### Before Optimization"
   ]
  },
  {
   "cell_type": "code",
   "execution_count": 72,
   "metadata": {
    "executionInfo": {
     "elapsed": 4252,
     "status": "ok",
     "timestamp": 1656293179495,
     "user": {
      "displayName": "Victor Freire",
      "userId": "18258112772960334498"
     },
     "user_tz": 180
    },
    "id": "Hj800JZKGkcP"
   },
   "outputs": [],
   "source": [
    "catboost = CatBoostClassifier(random_state = 42, verbose = 0)\n",
    "\n",
    "train_data = Pool(data=X_train,label=y_train)\n",
    "eval_data = Pool(data=X_val,label=y_val)\n",
    "catboost.fit(X=train_data, eval_set=eval_data,plot=False)\n",
    "\n",
    "y_test_catboost = catboost.predict_proba(X_test)\n",
    "pred_test_catboost = catboost.predict(X_test)"
   ]
  },
  {
   "cell_type": "code",
   "execution_count": 73,
   "metadata": {
    "colab": {
     "base_uri": "https://localhost:8080/"
    },
    "executionInfo": {
     "elapsed": 6,
     "status": "ok",
     "timestamp": 1656293179496,
     "user": {
      "displayName": "Victor Freire",
      "userId": "18258112772960334498"
     },
     "user_tz": 180
    },
    "id": "vAaA3RwHErlm",
    "outputId": "39e90c59-8c1e-43d4-de36-09a942e0760b"
   },
   "outputs": [
    {
     "name": "stdout",
     "output_type": "stream",
     "text": [
      "Accuracy: 0.4477950713359274 \t AUC: 0.5842604123237461 \t Precision: 0.4108903357780771 \t Recall: 0.4200217527473451\n"
     ]
    }
   ],
   "source": [
    "accuracy = metrics.accuracy_score(y_test, pred_test_catboost)\n",
    "auc = metrics.roc_auc_score(y_test, y_test_catboost, multi_class = 'ovo', average = 'macro')\n",
    "precision = metrics.precision_score(y_test, pred_test_catboost, average = 'macro')\n",
    "recall = metrics.recall_score(y_test, pred_test_catboost, average = 'macro')\n",
    "\n",
    "df_comparison = df_comparison.append(pd.DataFrame({\n",
    "    'Model': ['CatBoost Plain'],\n",
    "    'Accuracy': [accuracy],\n",
    "    'AUC': [auc],\n",
    "    'Precision': [precision],\n",
    "    'Recall': [recall]\n",
    "}))\n",
    "\n",
    "print(f'Accuracy: {accuracy} \\t AUC: {auc} \\t Precision: {precision} \\t Recall: {recall}')"
   ]
  },
  {
   "cell_type": "code",
   "execution_count": 74,
   "metadata": {
    "colab": {
     "base_uri": "https://localhost:8080/",
     "height": 81
    },
    "executionInfo": {
     "elapsed": 5,
     "status": "ok",
     "timestamp": 1656293179497,
     "user": {
      "displayName": "Victor Freire",
      "userId": "18258112772960334498"
     },
     "user_tz": 180
    },
    "id": "Z5rfJehjEriE",
    "outputId": "3145f52e-f1a9-437b-df92-7f6b3067960b"
   },
   "outputs": [
    {
     "data": {
      "text/html": [
       "\n",
       "  <div id=\"df-659cea32-993d-4076-a704-52ac7dabb01b\">\n",
       "    <div class=\"colab-df-container\">\n",
       "      <div>\n",
       "<style scoped>\n",
       "    .dataframe tbody tr th:only-of-type {\n",
       "        vertical-align: middle;\n",
       "    }\n",
       "\n",
       "    .dataframe tbody tr th {\n",
       "        vertical-align: top;\n",
       "    }\n",
       "\n",
       "    .dataframe thead th {\n",
       "        text-align: right;\n",
       "    }\n",
       "</style>\n",
       "<table border=\"1\" class=\"dataframe\">\n",
       "  <thead>\n",
       "    <tr style=\"text-align: right;\">\n",
       "      <th></th>\n",
       "      <th>Model</th>\n",
       "      <th>Accuracy</th>\n",
       "      <th>AUC</th>\n",
       "      <th>Precision</th>\n",
       "      <th>Recall</th>\n",
       "    </tr>\n",
       "  </thead>\n",
       "  <tbody>\n",
       "    <tr>\n",
       "      <th>0</th>\n",
       "      <td>CatBoost Plain</td>\n",
       "      <td>0.447795</td>\n",
       "      <td>0.58426</td>\n",
       "      <td>0.41089</td>\n",
       "      <td>0.420022</td>\n",
       "    </tr>\n",
       "  </tbody>\n",
       "</table>\n",
       "</div>\n",
       "      <button class=\"colab-df-convert\" onclick=\"convertToInteractive('df-659cea32-993d-4076-a704-52ac7dabb01b')\"\n",
       "              title=\"Convert this dataframe to an interactive table.\"\n",
       "              style=\"display:none;\">\n",
       "        \n",
       "  <svg xmlns=\"http://www.w3.org/2000/svg\" height=\"24px\"viewBox=\"0 0 24 24\"\n",
       "       width=\"24px\">\n",
       "    <path d=\"M0 0h24v24H0V0z\" fill=\"none\"/>\n",
       "    <path d=\"M18.56 5.44l.94 2.06.94-2.06 2.06-.94-2.06-.94-.94-2.06-.94 2.06-2.06.94zm-11 1L8.5 8.5l.94-2.06 2.06-.94-2.06-.94L8.5 2.5l-.94 2.06-2.06.94zm10 10l.94 2.06.94-2.06 2.06-.94-2.06-.94-.94-2.06-.94 2.06-2.06.94z\"/><path d=\"M17.41 7.96l-1.37-1.37c-.4-.4-.92-.59-1.43-.59-.52 0-1.04.2-1.43.59L10.3 9.45l-7.72 7.72c-.78.78-.78 2.05 0 2.83L4 21.41c.39.39.9.59 1.41.59.51 0 1.02-.2 1.41-.59l7.78-7.78 2.81-2.81c.8-.78.8-2.07 0-2.86zM5.41 20L4 18.59l7.72-7.72 1.47 1.35L5.41 20z\"/>\n",
       "  </svg>\n",
       "      </button>\n",
       "      \n",
       "  <style>\n",
       "    .colab-df-container {\n",
       "      display:flex;\n",
       "      flex-wrap:wrap;\n",
       "      gap: 12px;\n",
       "    }\n",
       "\n",
       "    .colab-df-convert {\n",
       "      background-color: #E8F0FE;\n",
       "      border: none;\n",
       "      border-radius: 50%;\n",
       "      cursor: pointer;\n",
       "      display: none;\n",
       "      fill: #1967D2;\n",
       "      height: 32px;\n",
       "      padding: 0 0 0 0;\n",
       "      width: 32px;\n",
       "    }\n",
       "\n",
       "    .colab-df-convert:hover {\n",
       "      background-color: #E2EBFA;\n",
       "      box-shadow: 0px 1px 2px rgba(60, 64, 67, 0.3), 0px 1px 3px 1px rgba(60, 64, 67, 0.15);\n",
       "      fill: #174EA6;\n",
       "    }\n",
       "\n",
       "    [theme=dark] .colab-df-convert {\n",
       "      background-color: #3B4455;\n",
       "      fill: #D2E3FC;\n",
       "    }\n",
       "\n",
       "    [theme=dark] .colab-df-convert:hover {\n",
       "      background-color: #434B5C;\n",
       "      box-shadow: 0px 1px 3px 1px rgba(0, 0, 0, 0.15);\n",
       "      filter: drop-shadow(0px 1px 2px rgba(0, 0, 0, 0.3));\n",
       "      fill: #FFFFFF;\n",
       "    }\n",
       "  </style>\n",
       "\n",
       "      <script>\n",
       "        const buttonEl =\n",
       "          document.querySelector('#df-659cea32-993d-4076-a704-52ac7dabb01b button.colab-df-convert');\n",
       "        buttonEl.style.display =\n",
       "          google.colab.kernel.accessAllowed ? 'block' : 'none';\n",
       "\n",
       "        async function convertToInteractive(key) {\n",
       "          const element = document.querySelector('#df-659cea32-993d-4076-a704-52ac7dabb01b');\n",
       "          const dataTable =\n",
       "            await google.colab.kernel.invokeFunction('convertToInteractive',\n",
       "                                                     [key], {});\n",
       "          if (!dataTable) return;\n",
       "\n",
       "          const docLinkHtml = 'Like what you see? Visit the ' +\n",
       "            '<a target=\"_blank\" href=https://colab.research.google.com/notebooks/data_table.ipynb>data table notebook</a>'\n",
       "            + ' to learn more about interactive tables.';\n",
       "          element.innerHTML = '';\n",
       "          dataTable['output_type'] = 'display_data';\n",
       "          await google.colab.output.renderOutput(dataTable, element);\n",
       "          const docLink = document.createElement('div');\n",
       "          docLink.innerHTML = docLinkHtml;\n",
       "          element.appendChild(docLink);\n",
       "        }\n",
       "      </script>\n",
       "    </div>\n",
       "  </div>\n",
       "  "
      ],
      "text/plain": [
       "            Model  Accuracy      AUC  Precision    Recall\n",
       "0  CatBoost Plain  0.447795  0.58426    0.41089  0.420022"
      ]
     },
     "execution_count": 74,
     "metadata": {},
     "output_type": "execute_result"
    }
   ],
   "source": [
    "df_comparison"
   ]
  },
  {
   "cell_type": "markdown",
   "metadata": {
    "id": "SQIDbKfaGpj8"
   },
   "source": [
    "#### Optimization"
   ]
  },
  {
   "cell_type": "code",
   "execution_count": 16,
   "metadata": {
    "colab": {
     "base_uri": "https://localhost:8080/"
    },
    "executionInfo": {
     "elapsed": 4175736,
     "status": "ok",
     "timestamp": 1656287526053,
     "user": {
      "displayName": "Victor Freire",
      "userId": "18258112772960334498"
     },
     "user_tz": 180
    },
    "id": "JflK5_ERFIbE",
    "outputId": "7249d4e4-5208-42bd-e6f0-e12cc4cb2796"
   },
   "outputs": [
    {
     "name": "stderr",
     "output_type": "stream",
     "text": [
      "\r",
      "integer_pso:   0%|          |0/10"
     ]
    },
    {
     "name": "stdout",
     "output_type": "stream",
     "text": [
      "\n",
      " MD: 11.893058444781385, l2: 6.27121744100832\n",
      "\n",
      " MD: 12.814231410204604, l2: 5.341442232200604\n",
      "\n",
      " MD: 1.4655334972095293, l2: 10.713131085077785\n",
      "\n",
      " MD: 7.7803333579104645, l2: 3.4456308760773506\n",
      "\n",
      " MD: 3.8154589914039345, l2: 3.0755822956673757\n",
      "\n",
      " MD: 1.4808015087984145, l2: 5.5500213418105115\n",
      "\n",
      " MD: 2.2320566443873133, l2: 11.668265164704854\n",
      "\n",
      " MD: 11.232557686903716, l2: 14.08449630963425\n",
      "\n",
      " MD: 13.514970708999133, l2: 14.029650366959533\n",
      "\n",
      " MD: 15.412204058806866, l2: 0.07591458742906099\n",
      "\n",
      " MD: 7.282882236836333, l2: 14.16232638590292\n",
      "\n",
      " MD: 4.972149926579066, l2: 12.864284056301457\n",
      "\n",
      " MD: 10.82984552512682, l2: 2.756603739026634\n",
      "\n",
      " MD: 10.161318558312484, l2: 4.08590179791962\n",
      "\n",
      " MD: 15.962545845725517, l2: 0.9900051990077632\n",
      "\n",
      " MD: 5.459321375640732, l2: 5.359565513381897\n",
      "\n",
      " MD: 3.0575748004637493, l2: 15.31204015761711\n",
      "\n",
      " MD: 4.075253399094111, l2: 0.007861166272535414\n",
      "\n",
      " MD: 13.259447745865883, l2: 3.404322262928293\n",
      "\n",
      " MD: 14.010975582302292, l2: 10.30706493289643\n",
      "\n",
      " MD: 15.40980721071841, l2: 6.555055508472632\n",
      "\n",
      " MD: 12.306195198421578, l2: 4.424397897881814\n",
      "\n",
      " MD: 0.1907170998405423, l2: 1.5427227356821422\n",
      "\n",
      " MD: 3.647939846337419, l2: 2.702335664051052\n",
      "\n",
      " MD: 12.739498405829877, l2: 12.43116510739152\n",
      "\n",
      " MD: 15.086351241307778, l2: 5.2282684633844205\n",
      "\n",
      " MD: 7.32444837927927, l2: 7.441904460412307\n",
      "\n",
      " MD: 11.520951661215951, l2: 8.338502208305387\n",
      "\n",
      " MD: 9.290739993516244, l2: 13.056347205767752\n",
      "\n",
      " MD: 6.279052391539194, l2: 0.3067440359602518\n",
      "\n",
      " MD: 12.563309483379154, l2: 2.489132536282142\n",
      "\n",
      " MD: 9.671147133777742, l2: 5.660341413528117\n",
      "\n",
      " MD: 14.629144441025703, l2: 0.7820424942506179\n",
      "\n",
      " MD: 12.196549058626346, l2: 10.850684268445933\n",
      "\n",
      " MD: 7.0450989867536915, l2: 6.749751579808649\n",
      "\n",
      " MD: 3.535582411120343, l2: 4.487644034095489\n",
      "\n",
      " MD: 7.940708791637091, l2: 2.9010639150619735\n",
      "\n",
      " MD: 8.309526000818616, l2: 11.31822100177114\n",
      "\n",
      " MD: 12.345869163159731, l2: 0.284336043756106\n",
      "\n",
      " MD: 3.2879005434113466, l2: 4.7287641904247\n",
      "\n",
      " MD: 6.045441170919503, l2: 0.8571058878914748\n",
      "\n",
      " MD: 1.594860228928498, l2: 11.075620012870635\n",
      "\n",
      " MD: 5.844548027198163, l2: 12.67340009159961\n",
      "\n",
      " MD: 6.495838595965854, l2: 1.9522361467567233\n",
      "\n",
      " MD: 11.513829394153632, l2: 4.117417978203122\n",
      "\n",
      " MD: 8.226153015384009, l2: 0.24870431773724988\n",
      "\n",
      " MD: 12.950572735382215, l2: 3.651787364801727\n",
      "\n",
      " MD: 7.7359277225144645, l2: 4.522321914513661\n",
      "\n",
      " MD: 13.322638117412192, l2: 7.522555638851131\n"
     ]
    },
    {
     "name": "stderr",
     "output_type": "stream",
     "text": [
      "integer_pso:  10%|█         |1/10, best_cost=0.391"
     ]
    },
    {
     "name": "stdout",
     "output_type": "stream",
     "text": [
      "\n",
      " MD: 2.8254754744517, l2: 7.272540573211016\n",
      "\n",
      " MD: 11, l2: 6\n",
      "\n",
      " MD: 11, l2: 5\n",
      "\n",
      " MD: 3, l2: 10\n",
      "\n",
      " MD: 8, l2: 4\n",
      "\n",
      " MD: 3, l2: 3\n",
      "\n",
      " MD: 3, l2: 5\n",
      "\n",
      " MD: 3, l2: 11\n",
      "\n",
      " MD: 11, l2: 14\n",
      "\n",
      " MD: 13, l2: 14\n",
      "\n",
      " MD: 0, l2: 1\n",
      "\n",
      " MD: 8, l2: 14\n",
      "\n",
      " MD: 5, l2: 12\n",
      "\n",
      " MD: 10, l2: 3\n",
      "\n",
      " MD: 11, l2: 5\n",
      "\n",
      " MD: 0, l2: 0\n",
      "\n",
      " MD: 6, l2: 6\n",
      "\n",
      " MD: 5, l2: 13\n",
      "\n",
      " MD: 5, l2: 2\n",
      "\n",
      " MD: 13, l2: 4\n",
      "\n",
      " MD: 15, l2: 11\n",
      "\n",
      " MD: 0, l2: 7\n",
      "\n",
      " MD: 13, l2: 4\n",
      "\n",
      " MD: 2, l2: 3\n",
      "\n",
      " MD: 3, l2: 2\n",
      "\n",
      " MD: 12, l2: 12\n",
      "\n",
      " MD: 15, l2: 5\n",
      "\n",
      " MD: 8, l2: 7\n",
      "\n",
      " MD: 11, l2: 8\n",
      "\n",
      " MD: 9, l2: 14\n",
      "\n",
      " MD: 6, l2: 1\n",
      "\n",
      " MD: 12, l2: 2\n",
      "\n",
      " MD: 9, l2: 5\n",
      "\n",
      " MD: 14, l2: 1\n",
      "\n",
      " MD: 12, l2: 10\n",
      "\n",
      " MD: 8, l2: 6\n",
      "\n",
      " MD: 3, l2: 5\n",
      "\n",
      " MD: 7, l2: 2\n",
      "\n",
      " MD: 8, l2: 11\n",
      "\n",
      " MD: 12, l2: 0\n",
      "\n",
      " MD: 3, l2: 4\n",
      "\n",
      " MD: 6, l2: 1\n",
      "\n",
      " MD: 3, l2: 11\n",
      "\n",
      " MD: 6, l2: 12\n",
      "\n",
      " MD: 7, l2: 1\n",
      "\n",
      " MD: 11, l2: 4\n",
      "\n",
      " MD: 9, l2: 1\n",
      "\n",
      " MD: 12, l2: 3\n",
      "\n",
      " MD: 7, l2: 4\n",
      "\n",
      " MD: 13, l2: 8\n"
     ]
    },
    {
     "name": "stderr",
     "output_type": "stream",
     "text": [
      "integer_pso:  20%|██        |2/10, best_cost=0.391"
     ]
    },
    {
     "name": "stdout",
     "output_type": "stream",
     "text": [
      "\n",
      " MD: 2, l2: 7\n",
      "\n",
      " MD: 11, l2: 6\n",
      "\n",
      " MD: 9, l2: 5\n",
      "\n",
      " MD: 6, l2: 10\n",
      "\n",
      " MD: 9, l2: 5\n",
      "\n",
      " MD: 3, l2: 3\n",
      "\n",
      " MD: 7, l2: 5\n",
      "\n",
      " MD: 5, l2: 10\n",
      "\n",
      " MD: 11, l2: 12\n",
      "\n",
      " MD: 13, l2: 13\n",
      "\n",
      " MD: 6, l2: 2\n",
      "\n",
      " MD: 9, l2: 12\n",
      "\n",
      " MD: 7, l2: 12\n",
      "\n",
      " MD: 10, l2: 4\n",
      "\n",
      " MD: 12, l2: 6\n",
      "\n",
      " MD: 8, l2: 0\n",
      "\n",
      " MD: 8, l2: 7\n",
      "\n",
      " MD: 9, l2: 9\n",
      "\n",
      " MD: 7, l2: 5\n",
      "\n",
      " MD: 13, l2: 5\n",
      "\n",
      " MD: 15, l2: 11\n",
      "\n",
      " MD: 4, l2: 8\n",
      "\n",
      " MD: 14, l2: 4\n",
      "\n",
      " MD: 6, l2: 6\n",
      "\n",
      " MD: 3, l2: 2\n",
      "\n",
      " MD: 12, l2: 11\n",
      "\n",
      " MD: 14, l2: 5\n",
      "\n",
      " MD: 9, l2: 7\n",
      "\n",
      " MD: 11, l2: 8\n",
      "\n",
      " MD: 9, l2: 14\n",
      "\n",
      " MD: 6, l2: 3\n",
      "\n",
      " MD: 12, l2: 2\n",
      "\n",
      " MD: 9, l2: 5\n",
      "\n",
      " MD: 14, l2: 3\n",
      "\n",
      " MD: 12, l2: 10\n",
      "\n",
      " MD: 9, l2: 6\n",
      "\n",
      " MD: 3, l2: 6\n",
      "\n",
      " MD: 7, l2: 2\n",
      "\n",
      " MD: 8, l2: 11\n",
      "\n",
      " MD: 12, l2: 0\n",
      "\n",
      " MD: 3, l2: 4\n",
      "\n",
      " MD: 6, l2: 3\n",
      "\n",
      " MD: 7, l2: 10\n",
      "\n",
      " MD: 8, l2: 10\n",
      "\n",
      " MD: 8, l2: 1\n",
      "\n",
      " MD: 11, l2: 4\n",
      "\n",
      " MD: 10, l2: 3\n",
      "\n",
      " MD: 12, l2: 3\n",
      "\n",
      " MD: 7, l2: 4\n",
      "\n",
      " MD: 13, l2: 9\n"
     ]
    },
    {
     "name": "stderr",
     "output_type": "stream",
     "text": [
      "integer_pso:  30%|███       |3/10, best_cost=0.391"
     ]
    },
    {
     "name": "stdout",
     "output_type": "stream",
     "text": [
      "\n",
      " MD: 3, l2: 7\n",
      "\n",
      " MD: 11, l2: 6\n",
      "\n",
      " MD: 6, l2: 5\n",
      "\n",
      " MD: 11, l2: 10\n",
      "\n",
      " MD: 10, l2: 6\n",
      "\n",
      " MD: 3, l2: 3\n",
      "\n",
      " MD: 14, l2: 5\n",
      "\n",
      " MD: 9, l2: 8\n",
      "\n",
      " MD: 11, l2: 7\n",
      "\n",
      " MD: 13, l2: 11\n",
      "\n",
      " MD: 1, l2: 3\n",
      "\n",
      " MD: 10, l2: 9\n",
      "\n",
      " MD: 10, l2: 11\n",
      "\n",
      " MD: 10, l2: 5\n",
      "\n",
      " MD: 12, l2: 6\n",
      "\n",
      " MD: 7, l2: 0\n",
      "\n",
      " MD: 11, l2: 8\n",
      "\n",
      " MD: 16, l2: 1\n",
      "\n",
      " MD: 11, l2: 10\n",
      "\n",
      " MD: 13, l2: 6\n",
      "\n",
      " MD: 13, l2: 9\n",
      "\n",
      " MD: 15, l2: 8\n",
      "\n",
      " MD: 14, l2: 4\n",
      "\n",
      " MD: 13, l2: 11\n",
      "\n",
      " MD: 3, l2: 2\n",
      "\n",
      " MD: 12, l2: 9\n",
      "\n",
      " MD: 12, l2: 5\n",
      "\n",
      " MD: 10, l2: 7\n",
      "\n",
      " MD: 11, l2: 7\n",
      "\n",
      " MD: 9, l2: 13\n",
      "\n",
      " MD: 6, l2: 6\n",
      "\n",
      " MD: 12, l2: 2\n",
      "\n",
      " MD: 9, l2: 5\n",
      "\n",
      " MD: 14, l2: 6\n",
      "\n",
      " MD: 12, l2: 10\n",
      "\n",
      " MD: 10, l2: 6\n",
      "\n",
      " MD: 3, l2: 7\n",
      "\n",
      " MD: 7, l2: 2\n",
      "\n",
      " MD: 8, l2: 10\n",
      "\n",
      " MD: 12, l2: 0\n",
      "\n",
      " MD: 4, l2: 4\n",
      "\n",
      " MD: 6, l2: 6\n",
      "\n",
      " MD: 14, l2: 7\n",
      "\n",
      " MD: 11, l2: 6\n",
      "\n",
      " MD: 9, l2: 1\n",
      "\n",
      " MD: 11, l2: 4\n",
      "\n",
      " MD: 11, l2: 6\n",
      "\n",
      " MD: 12, l2: 3\n",
      "\n",
      " MD: 7, l2: 4\n",
      "\n",
      " MD: 13, l2: 10\n",
      "\n",
      " MD: 6, l2: 7\n"
     ]
    },
    {
     "name": "stderr",
     "output_type": "stream",
     "text": [
      "integer_pso:  40%|████      |4/10, best_cost=0.391"
     ]
    },
    {
     "name": "stdout",
     "output_type": "stream",
     "text": [
      "\n",
      " MD: 11, l2: 6\n",
      "\n",
      " MD: 2, l2: 5\n",
      "\n",
      " MD: 4, l2: 9\n",
      "\n",
      " MD: 10, l2: 7\n",
      "\n",
      " MD: 4, l2: 3\n",
      "\n",
      " MD: 8, l2: 5\n",
      "\n",
      " MD: 16, l2: 3\n",
      "\n",
      " MD: 11, l2: 1\n",
      "\n",
      " MD: 13, l2: 8\n",
      "\n",
      " MD: 7, l2: 4\n",
      "\n",
      " MD: 11, l2: 5\n",
      "\n",
      " MD: 15, l2: 8\n",
      "\n",
      " MD: 10, l2: 6\n",
      "\n",
      " MD: 11, l2: 5\n",
      "\n",
      " MD: 3, l2: 0\n",
      "\n",
      " MD: 15, l2: 8\n",
      "\n",
      " MD: 9, l2: 3\n",
      "\n",
      " MD: 1, l2: 16\n",
      "\n",
      " MD: 13, l2: 7\n",
      "\n",
      " MD: 10, l2: 6\n",
      "\n",
      " MD: 3, l2: 7\n",
      "\n",
      " MD: 14, l2: 4\n",
      "\n",
      " MD: 9, l2: 3\n",
      "\n",
      " MD: 3, l2: 2\n",
      "\n",
      " MD: 12, l2: 5\n",
      "\n",
      " MD: 8, l2: 5\n",
      "\n",
      " MD: 11, l2: 7\n",
      "\n",
      " MD: 11, l2: 5\n",
      "\n",
      " MD: 9, l2: 10\n",
      "\n",
      " MD: 6, l2: 9\n",
      "\n",
      " MD: 12, l2: 2\n",
      "\n",
      " MD: 9, l2: 5\n",
      "\n",
      " MD: 14, l2: 10\n",
      "\n",
      " MD: 12, l2: 10\n",
      "\n",
      " MD: 11, l2: 6\n",
      "\n",
      " MD: 4, l2: 8\n",
      "\n",
      " MD: 7, l2: 2\n",
      "\n",
      " MD: 8, l2: 8\n",
      "\n",
      " MD: 12, l2: 0\n",
      "\n",
      " MD: 6, l2: 4\n",
      "\n",
      " MD: 6, l2: 9\n",
      "\n",
      " MD: 10, l2: 1\n",
      "\n",
      " MD: 15, l2: 15\n",
      "\n",
      " MD: 9, l2: 1\n",
      "\n",
      " MD: 11, l2: 4\n",
      "\n",
      " MD: 11, l2: 10\n",
      "\n",
      " MD: 12, l2: 3\n",
      "\n",
      " MD: 7, l2: 4\n",
      "\n",
      " MD: 12, l2: 10\n",
      "\n",
      " MD: 11, l2: 7\n"
     ]
    },
    {
     "name": "stderr",
     "output_type": "stream",
     "text": [
      "integer_pso:  50%|█████     |5/10, best_cost=0.391"
     ]
    },
    {
     "name": "stdout",
     "output_type": "stream",
     "text": [
      "\n",
      " MD: 11, l2: 6\n",
      "\n",
      " MD: 14, l2: 5\n",
      "\n",
      " MD: 6, l2: 8\n",
      "\n",
      " MD: 10, l2: 7\n",
      "\n",
      " MD: 6, l2: 3\n",
      "\n",
      " MD: 10, l2: 5\n",
      "\n",
      " MD: 12, l2: 11\n",
      "\n",
      " MD: 11, l2: 7\n",
      "\n",
      " MD: 13, l2: 2\n",
      "\n",
      " MD: 1, l2: 5\n",
      "\n",
      " MD: 11, l2: 0\n",
      "\n",
      " MD: 5, l2: 3\n",
      "\n",
      " MD: 10, l2: 6\n",
      "\n",
      " MD: 9, l2: 3\n",
      "\n",
      " MD: 9, l2: 0\n",
      "\n",
      " MD: 2, l2: 8\n",
      "\n",
      " MD: 9, l2: 9\n",
      "\n",
      " MD: 15, l2: 9\n",
      "\n",
      " MD: 13, l2: 8\n",
      "\n",
      " MD: 5, l2: 0\n",
      "\n",
      " MD: 12, l2: 5\n",
      "\n",
      " MD: 12, l2: 4\n",
      "\n",
      " MD: 15, l2: 2\n",
      "\n",
      " MD: 4, l2: 2\n",
      "\n",
      " MD: 12, l2: 14\n",
      "\n",
      " MD: 1, l2: 5\n",
      "\n",
      " MD: 11, l2: 7\n",
      "\n",
      " MD: 11, l2: 2\n",
      "\n",
      " MD: 9, l2: 5\n",
      "\n",
      " MD: 6, l2: 9\n",
      "\n",
      " MD: 12, l2: 2\n",
      "\n",
      " MD: 9, l2: 5\n",
      "\n",
      " MD: 13, l2: 16\n",
      "\n",
      " MD: 12, l2: 10\n",
      "\n",
      " MD: 11, l2: 6\n",
      "\n",
      " MD: 6, l2: 9\n",
      "\n",
      " MD: 7, l2: 2\n",
      "\n",
      " MD: 8, l2: 5\n",
      "\n",
      " MD: 12, l2: 0\n",
      "\n",
      " MD: 9, l2: 4\n",
      "\n",
      " MD: 6, l2: 12\n",
      "\n",
      " MD: 0, l2: 6\n",
      "\n",
      " MD: 3, l2: 15\n",
      "\n",
      " MD: 9, l2: 1\n",
      "\n",
      " MD: 11, l2: 4\n",
      "\n",
      " MD: 10, l2: 14\n",
      "\n",
      " MD: 12, l2: 3\n",
      "\n",
      " MD: 7, l2: 4\n",
      "\n",
      " MD: 10, l2: 10\n"
     ]
    },
    {
     "name": "stderr",
     "output_type": "stream",
     "text": [
      "integer_pso:  60%|██████    |6/10, best_cost=0.391"
     ]
    },
    {
     "name": "stdout",
     "output_type": "stream",
     "text": [
      "\n",
      " MD: 3, l2: 7\n",
      "\n",
      " MD: 11, l2: 6\n",
      "\n",
      " MD: 4, l2: 5\n",
      "\n",
      " MD: 8, l2: 5\n",
      "\n",
      " MD: 10, l2: 6\n",
      "\n",
      " MD: 10, l2: 3\n",
      "\n",
      " MD: 11, l2: 5\n",
      "\n",
      " MD: 0, l2: 11\n",
      "\n",
      " MD: 11, l2: 2\n",
      "\n",
      " MD: 13, l2: 11\n",
      "\n",
      " MD: 2, l2: 6\n",
      "\n",
      " MD: 10, l2: 12\n",
      "\n",
      " MD: 2, l2: 13\n",
      "\n",
      " MD: 10, l2: 6\n",
      "\n",
      " MD: 5, l2: 0\n",
      "\n",
      " MD: 15, l2: 0\n",
      "\n",
      " MD: 9, l2: 8\n",
      "\n",
      " MD: 7, l2: 5\n",
      "\n",
      " MD: 5, l2: 9\n",
      "\n",
      " MD: 13, l2: 9\n",
      "\n",
      " MD: 15, l2: 8\n",
      "\n",
      " MD: 9, l2: 1\n",
      "\n",
      " MD: 8, l2: 4\n",
      "\n",
      " MD: 7, l2: 15\n",
      "\n",
      " MD: 6, l2: 2\n",
      "\n",
      " MD: 12, l2: 15\n",
      "\n",
      " MD: 7, l2: 5\n",
      "\n",
      " MD: 9, l2: 7\n",
      "\n",
      " MD: 11, l2: 13\n",
      "\n",
      " MD: 9, l2: 12\n",
      "\n",
      " MD: 6, l2: 5\n",
      "\n",
      " MD: 12, l2: 2\n",
      "\n",
      " MD: 9, l2: 5\n",
      "\n",
      " MD: 10, l2: 8\n",
      "\n",
      " MD: 12, l2: 9\n",
      "\n",
      " MD: 11, l2: 6\n",
      "\n",
      " MD: 10, l2: 9\n",
      "\n",
      " MD: 7, l2: 2\n",
      "\n",
      " MD: 8, l2: 15\n",
      "\n",
      " MD: 11, l2: 0\n",
      "\n",
      " MD: 14, l2: 4\n",
      "\n",
      " MD: 6, l2: 13\n",
      "\n",
      " MD: 0, l2: 15\n",
      "\n",
      " MD: 12, l2: 15\n",
      "\n",
      " MD: 8, l2: 1\n",
      "\n",
      " MD: 11, l2: 4\n",
      "\n",
      " MD: 8, l2: 3\n",
      "\n",
      " MD: 12, l2: 3\n",
      "\n",
      " MD: 7, l2: 4\n",
      "\n",
      " MD: 7, l2: 9\n"
     ]
    },
    {
     "name": "stderr",
     "output_type": "stream",
     "text": [
      "integer_pso:  70%|███████   |7/10, best_cost=0.391"
     ]
    },
    {
     "name": "stdout",
     "output_type": "stream",
     "text": [
      "\n",
      " MD: 3, l2: 7\n",
      "\n",
      " MD: 11, l2: 6\n",
      "\n",
      " MD: 4, l2: 5\n",
      "\n",
      " MD: 8, l2: 0\n",
      "\n",
      " MD: 10, l2: 3\n",
      "\n",
      " MD: 1, l2: 3\n",
      "\n",
      " MD: 7, l2: 5\n",
      "\n",
      " MD: 8, l2: 11\n",
      "\n",
      " MD: 11, l2: 11\n",
      "\n",
      " MD: 13, l2: 12\n",
      "\n",
      " MD: 12, l2: 6\n",
      "\n",
      " MD: 8, l2: 4\n",
      "\n",
      " MD: 13, l2: 0\n",
      "\n",
      " MD: 10, l2: 5\n",
      "\n",
      " MD: 15, l2: 12\n",
      "\n",
      " MD: 15, l2: 0\n",
      "\n",
      " MD: 5, l2: 7\n",
      "\n",
      " MD: 0, l2: 2\n",
      "\n",
      " MD: 0, l2: 5\n",
      "\n",
      " MD: 13, l2: 10\n",
      "\n",
      " MD: 2, l2: 8\n",
      "\n",
      " MD: 11, l2: 10\n",
      "\n",
      " MD: 1, l2: 4\n",
      "\n",
      " MD: 3, l2: 0\n",
      "\n",
      " MD: 10, l2: 2\n",
      "\n",
      " MD: 12, l2: 13\n",
      "\n",
      " MD: 5, l2: 5\n",
      "\n",
      " MD: 5, l2: 7\n",
      "\n",
      " MD: 11, l2: 1\n",
      "\n",
      " MD: 9, l2: 6\n",
      "\n",
      " MD: 6, l2: 12\n",
      "\n",
      " MD: 11, l2: 2\n",
      "\n",
      " MD: 9, l2: 5\n",
      "\n",
      " MD: 5, l2: 5\n",
      "\n",
      " MD: 12, l2: 7\n",
      "\n",
      " MD: 11, l2: 6\n",
      "\n",
      " MD: 1, l2: 9\n",
      "\n",
      " MD: 7, l2: 2\n",
      "\n",
      " MD: 8, l2: 0\n",
      "\n",
      " MD: 10, l2: 0\n",
      "\n",
      " MD: 6, l2: 4\n",
      "\n",
      " MD: 6, l2: 11\n",
      "\n",
      " MD: 12, l2: 16\n",
      "\n",
      " MD: 10, l2: 1\n",
      "\n",
      " MD: 6, l2: 1\n",
      "\n",
      " MD: 11, l2: 4\n",
      "\n",
      " MD: 5, l2: 12\n",
      "\n",
      " MD: 12, l2: 3\n",
      "\n",
      " MD: 7, l2: 4\n",
      "\n",
      " MD: 3, l2: 7\n",
      "\n",
      " MD: 2, l2: 6\n"
     ]
    },
    {
     "name": "stderr",
     "output_type": "stream",
     "text": [
      "integer_pso:  80%|████████  |8/10, best_cost=0.391"
     ]
    },
    {
     "name": "stdout",
     "output_type": "stream",
     "text": [
      "\n",
      " MD: 11, l2: 6\n",
      "\n",
      " MD: 9, l2: 5\n",
      "\n",
      " MD: 1, l2: 8\n",
      "\n",
      " MD: 10, l2: 14\n",
      "\n",
      " MD: 4, l2: 3\n",
      "\n",
      " MD: 9, l2: 5\n",
      "\n",
      " MD: 3, l2: 14\n",
      "\n",
      " MD: 11, l2: 12\n",
      "\n",
      " MD: 13, l2: 16\n",
      "\n",
      " MD: 15, l2: 6\n",
      "\n",
      " MD: 5, l2: 5\n",
      "\n",
      " MD: 14, l2: 10\n",
      "\n",
      " MD: 10, l2: 3\n",
      "\n",
      " MD: 2, l2: 4\n",
      "\n",
      " MD: 9, l2: 0\n",
      "\n",
      " MD: 13, l2: 5\n",
      "\n",
      " MD: 14, l2: 7\n",
      "\n",
      " MD: 4, l2: 10\n",
      "\n",
      " MD: 12, l2: 10\n",
      "\n",
      " MD: 14, l2: 9\n",
      "\n",
      " MD: 15, l2: 9\n",
      "\n",
      " MD: 6, l2: 4\n",
      "\n",
      " MD: 6, l2: 14\n",
      "\n",
      " MD: 1, l2: 2\n",
      "\n",
      " MD: 11, l2: 9\n",
      "\n",
      " MD: 5, l2: 5\n",
      "\n",
      " MD: 14, l2: 7\n",
      "\n",
      " MD: 11, l2: 11\n",
      "\n",
      " MD: 9, l2: 12\n",
      "\n",
      " MD: 6, l2: 9\n",
      "\n",
      " MD: 10, l2: 2\n",
      "\n",
      " MD: 9, l2: 5\n",
      "\n",
      " MD: 12, l2: 14\n",
      "\n",
      " MD: 12, l2: 5\n",
      "\n",
      " MD: 10, l2: 6\n",
      "\n",
      " MD: 1, l2: 9\n",
      "\n",
      " MD: 7, l2: 2\n",
      "\n",
      " MD: 8, l2: 6\n",
      "\n",
      " MD: 8, l2: 0\n",
      "\n",
      " MD: 6, l2: 4\n",
      "\n",
      " MD: 6, l2: 6\n",
      "\n",
      " MD: 9, l2: 16\n",
      "\n",
      " MD: 4, l2: 12\n",
      "\n",
      " MD: 3, l2: 1\n",
      "\n",
      " MD: 11, l2: 4\n",
      "\n",
      " MD: 2, l2: 10\n",
      "\n",
      " MD: 12, l2: 3\n",
      "\n",
      " MD: 7, l2: 4\n",
      "\n",
      " MD: 13, l2: 4\n",
      "\n",
      " MD: 15, l2: 4\n"
     ]
    },
    {
     "name": "stderr",
     "output_type": "stream",
     "text": [
      "integer_pso:  90%|█████████ |9/10, best_cost=0.391"
     ]
    },
    {
     "name": "stdout",
     "output_type": "stream",
     "text": [
      "\n",
      " MD: 11, l2: 6\n",
      "\n",
      " MD: 6, l2: 5\n",
      "\n",
      " MD: 10, l2: 7\n",
      "\n",
      " MD: 10, l2: 1\n",
      "\n",
      " MD: 9, l2: 3\n",
      "\n",
      " MD: 1, l2: 5\n",
      "\n",
      " MD: 3, l2: 9\n",
      "\n",
      " MD: 11, l2: 2\n",
      "\n",
      " MD: 13, l2: 9\n",
      "\n",
      " MD: 4, l2: 5\n",
      "\n",
      " MD: 1, l2: 8\n",
      "\n",
      " MD: 9, l2: 15\n",
      "\n",
      " MD: 10, l2: 0\n",
      "\n",
      " MD: 10, l2: 5\n",
      "\n",
      " MD: 8, l2: 0\n",
      "\n",
      " MD: 9, l2: 2\n",
      "\n",
      " MD: 13, l2: 2\n",
      "\n",
      " MD: 5, l2: 12\n",
      "\n",
      " MD: 11, l2: 9\n",
      "\n",
      " MD: 6, l2: 12\n",
      "\n",
      " MD: 8, l2: 5\n",
      "\n",
      " MD: 2, l2: 4\n",
      "\n",
      " MD: 15, l2: 9\n",
      "\n",
      " MD: 15, l2: 2\n",
      "\n",
      " MD: 9, l2: 7\n",
      "\n",
      " MD: 10, l2: 5\n",
      "\n",
      " MD: 15, l2: 7\n",
      "\n",
      " MD: 11, l2: 14\n",
      "\n",
      " MD: 9, l2: 10\n",
      "\n",
      " MD: 6, l2: 1\n",
      "\n",
      " MD: 8, l2: 2\n",
      "\n",
      " MD: 9, l2: 5\n",
      "\n",
      " MD: 10, l2: 10\n",
      "\n",
      " MD: 12, l2: 1\n",
      "\n",
      " MD: 7, l2: 6\n",
      "\n",
      " MD: 1, l2: 8\n",
      "\n",
      " MD: 7, l2: 2\n",
      "\n",
      " MD: 8, l2: 4\n",
      "\n",
      " MD: 5, l2: 0\n",
      "\n",
      " MD: 4, l2: 4\n",
      "\n",
      " MD: 6, l2: 13\n",
      "\n",
      " MD: 1, l2: 5\n",
      "\n",
      " MD: 7, l2: 8\n",
      "\n",
      " MD: 0, l2: 1\n",
      "\n",
      " MD: 11, l2: 4\n",
      "\n",
      " MD: 0, l2: 2\n",
      "\n",
      " MD: 12, l2: 3\n",
      "\n",
      " MD: 7, l2: 4\n",
      "\n",
      " MD: 1, l2: 15\n",
      "\n",
      " MD: 14, l2: 2\n"
     ]
    },
    {
     "name": "stderr",
     "output_type": "stream",
     "text": [
      "integer_pso: 100%|██████████|10/10, best_cost=0.391\n",
      "2022-08-11 23:52:05,533 - integer_pso - INFO - Optimization finished | best cost: 0.3911385542286602, best pos: [7.94070879 2.90106392]\n"
     ]
    }
   ],
   "source": [
    "import tqdm.notebook as tq\n",
    "from itertools import product\n",
    "import statistics\n",
    "from collections import Counter\n",
    "import pyswarms as ps\n",
    "\n",
    "@ps.cost\n",
    "def parab(X):\n",
    "\n",
    "    md = X[0]\n",
    "    l2 = X[1]\n",
    "\n",
    "    print(f\"\\n MD: {md}, l2: {l2}\")\n",
    "\n",
    "    catboost = CatBoostClassifier(learning_rate=0.03,\n",
    "                                  random_seed=42,\n",
    "                                  max_depth=abs(int(md)),\n",
    "                                  num_trees=50,\n",
    "                                  l2_leaf_reg=abs(int(l2)),\n",
    "                                  verbose=0)\n",
    "    train_data = Pool(data=X_train,label=y_train)\n",
    "    eval_data = Pool(data=X_val,label=y_val)\n",
    "    catboost.fit(X=train_data, eval_set=eval_data,plot=False)\n",
    "    y_val_catboost = catboost.predict_proba(X_val)\n",
    "    acc_val = metrics.roc_auc_score(y_val,y_val_catboost, multi_class = 'ovo', average = 'macro')\n",
    "    \n",
    "    return 1-acc_val\n",
    "constraints = (np.array([0, 0]),\n",
    "               np.array([16, 16]))\n",
    "opt = IntOptimizerPSO(50,\n",
    "                      2,\n",
    "                      {\"c1\": 0.5, \"c2\": 0.3, \"w\": 1.9},\n",
    "                      bounds = constraints)\n",
    "\n",
    "c, p = opt.optimize(parab, 10)\n",
    "\n"
   ]
  },
  {
   "cell_type": "markdown",
   "metadata": {
    "id": "vw4s-0QHGy7v"
   },
   "source": [
    "#### After Optimization"
   ]
  },
  {
   "cell_type": "code",
   "execution_count": 94,
   "metadata": {
    "executionInfo": {
     "elapsed": 1294,
     "status": "ok",
     "timestamp": 1656293282810,
     "user": {
      "displayName": "Victor Freire",
      "userId": "18258112772960334498"
     },
     "user_tz": 180
    },
    "id": "gAXuTRkNGPOk"
   },
   "outputs": [],
   "source": [
    "catboost = CatBoostClassifier(learning_rate=0.03,\n",
    "                                  random_seed=42,\n",
    "                                  max_depth=8,\n",
    "                                  num_trees=50,\n",
    "                                  l2_leaf_reg=3,\n",
    "                                  verbose=0)\n",
    "\n",
    "train_data = Pool(data=X_train,label=y_train)\n",
    "eval_data = Pool(data=X_val,label=y_val)\n",
    "catboost.fit(X=train_data, eval_set=eval_data,plot=False)\n",
    "\n",
    "y_test_catboost = catboost.predict_proba(X_test)\n",
    "pred_test_catboost = catboost.predict(X_test)\n"
   ]
  },
  {
   "cell_type": "code",
   "execution_count": 76,
   "metadata": {
    "colab": {
     "base_uri": "https://localhost:8080/"
    },
    "executionInfo": {
     "elapsed": 407,
     "status": "ok",
     "timestamp": 1656293189058,
     "user": {
      "displayName": "Victor Freire",
      "userId": "18258112772960334498"
     },
     "user_tz": 180
    },
    "id": "-itxVuFBbuO5",
    "outputId": "cdc43c8f-0d30-42c7-856e-3ae6b7965ad5"
   },
   "outputs": [
    {
     "name": "stdout",
     "output_type": "stream",
     "text": [
      "Accuracy: 0.45298313878080415 \t AUC: 0.5879301668497614 \t Precision: 0.4153991696443171 \t Recall: 0.4187158740772449\n"
     ]
    }
   ],
   "source": [
    "accuracy = metrics.accuracy_score(y_test, pred_test_catboost)\n",
    "auc = metrics.roc_auc_score(y_test, y_test_catboost, multi_class = 'ovo', average = 'macro')\n",
    "precision = metrics.precision_score(y_test, pred_test_catboost, average = 'macro')\n",
    "recall = metrics.recall_score(y_test, pred_test_catboost, average = 'macro')\n",
    "\n",
    "df_comparison = df_comparison.append(pd.DataFrame({\n",
    "    'Model': ['CatBoost PSO Optimized'],\n",
    "    'Accuracy': [accuracy],\n",
    "    'AUC': [auc],\n",
    "    'Precision': [precision],\n",
    "    'Recall': [recall]\n",
    "}))\n",
    "\n",
    "print(f'Accuracy: {accuracy} \\t AUC: {auc} \\t Precision: {precision} \\t Recall: {recall}')"
   ]
  },
  {
   "cell_type": "code",
   "execution_count": 77,
   "metadata": {
    "colab": {
     "base_uri": "https://localhost:8080/",
     "height": 112
    },
    "executionInfo": {
     "elapsed": 4,
     "status": "ok",
     "timestamp": 1656293189059,
     "user": {
      "displayName": "Victor Freire",
      "userId": "18258112772960334498"
     },
     "user_tz": 180
    },
    "id": "Fx2wowV8b6_r",
    "outputId": "c8404a1b-ed02-40c4-c15d-b3215ef75dc0"
   },
   "outputs": [
    {
     "data": {
      "text/html": [
       "\n",
       "  <div id=\"df-cdca2fd0-d8bd-44f8-ba84-5c6834621f94\">\n",
       "    <div class=\"colab-df-container\">\n",
       "      <div>\n",
       "<style scoped>\n",
       "    .dataframe tbody tr th:only-of-type {\n",
       "        vertical-align: middle;\n",
       "    }\n",
       "\n",
       "    .dataframe tbody tr th {\n",
       "        vertical-align: top;\n",
       "    }\n",
       "\n",
       "    .dataframe thead th {\n",
       "        text-align: right;\n",
       "    }\n",
       "</style>\n",
       "<table border=\"1\" class=\"dataframe\">\n",
       "  <thead>\n",
       "    <tr style=\"text-align: right;\">\n",
       "      <th></th>\n",
       "      <th>Model</th>\n",
       "      <th>Accuracy</th>\n",
       "      <th>AUC</th>\n",
       "      <th>Precision</th>\n",
       "      <th>Recall</th>\n",
       "    </tr>\n",
       "  </thead>\n",
       "  <tbody>\n",
       "    <tr>\n",
       "      <th>0</th>\n",
       "      <td>CatBoost Plain</td>\n",
       "      <td>0.447795</td>\n",
       "      <td>0.58426</td>\n",
       "      <td>0.410890</td>\n",
       "      <td>0.420022</td>\n",
       "    </tr>\n",
       "    <tr>\n",
       "      <th>0</th>\n",
       "      <td>CatBoost PSO Optimized</td>\n",
       "      <td>0.452983</td>\n",
       "      <td>0.58793</td>\n",
       "      <td>0.415399</td>\n",
       "      <td>0.418716</td>\n",
       "    </tr>\n",
       "  </tbody>\n",
       "</table>\n",
       "</div>\n",
       "      <button class=\"colab-df-convert\" onclick=\"convertToInteractive('df-cdca2fd0-d8bd-44f8-ba84-5c6834621f94')\"\n",
       "              title=\"Convert this dataframe to an interactive table.\"\n",
       "              style=\"display:none;\">\n",
       "        \n",
       "  <svg xmlns=\"http://www.w3.org/2000/svg\" height=\"24px\"viewBox=\"0 0 24 24\"\n",
       "       width=\"24px\">\n",
       "    <path d=\"M0 0h24v24H0V0z\" fill=\"none\"/>\n",
       "    <path d=\"M18.56 5.44l.94 2.06.94-2.06 2.06-.94-2.06-.94-.94-2.06-.94 2.06-2.06.94zm-11 1L8.5 8.5l.94-2.06 2.06-.94-2.06-.94L8.5 2.5l-.94 2.06-2.06.94zm10 10l.94 2.06.94-2.06 2.06-.94-2.06-.94-.94-2.06-.94 2.06-2.06.94z\"/><path d=\"M17.41 7.96l-1.37-1.37c-.4-.4-.92-.59-1.43-.59-.52 0-1.04.2-1.43.59L10.3 9.45l-7.72 7.72c-.78.78-.78 2.05 0 2.83L4 21.41c.39.39.9.59 1.41.59.51 0 1.02-.2 1.41-.59l7.78-7.78 2.81-2.81c.8-.78.8-2.07 0-2.86zM5.41 20L4 18.59l7.72-7.72 1.47 1.35L5.41 20z\"/>\n",
       "  </svg>\n",
       "      </button>\n",
       "      \n",
       "  <style>\n",
       "    .colab-df-container {\n",
       "      display:flex;\n",
       "      flex-wrap:wrap;\n",
       "      gap: 12px;\n",
       "    }\n",
       "\n",
       "    .colab-df-convert {\n",
       "      background-color: #E8F0FE;\n",
       "      border: none;\n",
       "      border-radius: 50%;\n",
       "      cursor: pointer;\n",
       "      display: none;\n",
       "      fill: #1967D2;\n",
       "      height: 32px;\n",
       "      padding: 0 0 0 0;\n",
       "      width: 32px;\n",
       "    }\n",
       "\n",
       "    .colab-df-convert:hover {\n",
       "      background-color: #E2EBFA;\n",
       "      box-shadow: 0px 1px 2px rgba(60, 64, 67, 0.3), 0px 1px 3px 1px rgba(60, 64, 67, 0.15);\n",
       "      fill: #174EA6;\n",
       "    }\n",
       "\n",
       "    [theme=dark] .colab-df-convert {\n",
       "      background-color: #3B4455;\n",
       "      fill: #D2E3FC;\n",
       "    }\n",
       "\n",
       "    [theme=dark] .colab-df-convert:hover {\n",
       "      background-color: #434B5C;\n",
       "      box-shadow: 0px 1px 3px 1px rgba(0, 0, 0, 0.15);\n",
       "      filter: drop-shadow(0px 1px 2px rgba(0, 0, 0, 0.3));\n",
       "      fill: #FFFFFF;\n",
       "    }\n",
       "  </style>\n",
       "\n",
       "      <script>\n",
       "        const buttonEl =\n",
       "          document.querySelector('#df-cdca2fd0-d8bd-44f8-ba84-5c6834621f94 button.colab-df-convert');\n",
       "        buttonEl.style.display =\n",
       "          google.colab.kernel.accessAllowed ? 'block' : 'none';\n",
       "\n",
       "        async function convertToInteractive(key) {\n",
       "          const element = document.querySelector('#df-cdca2fd0-d8bd-44f8-ba84-5c6834621f94');\n",
       "          const dataTable =\n",
       "            await google.colab.kernel.invokeFunction('convertToInteractive',\n",
       "                                                     [key], {});\n",
       "          if (!dataTable) return;\n",
       "\n",
       "          const docLinkHtml = 'Like what you see? Visit the ' +\n",
       "            '<a target=\"_blank\" href=https://colab.research.google.com/notebooks/data_table.ipynb>data table notebook</a>'\n",
       "            + ' to learn more about interactive tables.';\n",
       "          element.innerHTML = '';\n",
       "          dataTable['output_type'] = 'display_data';\n",
       "          await google.colab.output.renderOutput(dataTable, element);\n",
       "          const docLink = document.createElement('div');\n",
       "          docLink.innerHTML = docLinkHtml;\n",
       "          element.appendChild(docLink);\n",
       "        }\n",
       "      </script>\n",
       "    </div>\n",
       "  </div>\n",
       "  "
      ],
      "text/plain": [
       "                    Model  Accuracy      AUC  Precision    Recall\n",
       "0          CatBoost Plain  0.447795  0.58426   0.410890  0.420022\n",
       "0  CatBoost PSO Optimized  0.452983  0.58793   0.415399  0.418716"
      ]
     },
     "execution_count": 77,
     "metadata": {},
     "output_type": "execute_result"
    }
   ],
   "source": [
    "df_comparison\n"
   ]
  },
  {
   "cell_type": "markdown",
   "metadata": {
    "id": "odSGAKbSG3qc"
   },
   "source": [
    "### LightGBM"
   ]
  },
  {
   "cell_type": "markdown",
   "metadata": {
    "id": "gUM2tXZ5G5iL"
   },
   "source": [
    "#### Before Optimization"
   ]
  },
  {
   "cell_type": "code",
   "execution_count": 78,
   "metadata": {
    "executionInfo": {
     "elapsed": 838,
     "status": "ok",
     "timestamp": 1656293200983,
     "user": {
      "displayName": "Victor Freire",
      "userId": "18258112772960334498"
     },
     "user_tz": 180
    },
    "id": "48t9sKu4G8To"
   },
   "outputs": [],
   "source": [
    "lgbm = LGBMClassifier(random_state=42)\n",
    "\n",
    "lgbm.fit(X_train, y_train, eval_set = [(X_val, y_val)], verbose = 0)\n",
    "\n",
    "y_test_lgbm = lgbm.predict_proba(X_test)\n",
    "pred_test_lgbm = lgbm.predict(X_test)"
   ]
  },
  {
   "cell_type": "code",
   "execution_count": 79,
   "metadata": {
    "colab": {
     "base_uri": "https://localhost:8080/"
    },
    "executionInfo": {
     "elapsed": 6,
     "status": "ok",
     "timestamp": 1656293200984,
     "user": {
      "displayName": "Victor Freire",
      "userId": "18258112772960334498"
     },
     "user_tz": 180
    },
    "id": "6K0lFPZ7cgSo",
    "outputId": "152f2d2e-3514-4eea-b431-cb581587a195"
   },
   "outputs": [
    {
     "name": "stdout",
     "output_type": "stream",
     "text": [
      "Accuracy: 0.4079118028534371 \t AUC: 0.5721934193588355 \t Precision: 0.39563584351419556 \t Recall: 0.39859094717030663\n"
     ]
    }
   ],
   "source": [
    "accuracy = metrics.accuracy_score(y_test, pred_test_lgbm)\n",
    "auc = metrics.roc_auc_score(y_test, y_test_lgbm, multi_class = 'ovo', average = 'macro')\n",
    "precision = metrics.precision_score(y_test, pred_test_lgbm, average = 'macro')\n",
    "recall = metrics.recall_score(y_test, pred_test_lgbm, average = 'macro')\n",
    "\n",
    "df_comparison = df_comparison.append(pd.DataFrame({\n",
    "    'Model': ['LGBM Plain'],\n",
    "    'Accuracy': [accuracy],\n",
    "    'AUC': [auc],\n",
    "    'Precision': [precision],\n",
    "    'Recall': [recall]\n",
    "}))\n",
    "\n",
    "print(f'Accuracy: {accuracy} \\t AUC: {auc} \\t Precision: {precision} \\t Recall: {recall}')"
   ]
  },
  {
   "cell_type": "code",
   "execution_count": 80,
   "metadata": {
    "colab": {
     "base_uri": "https://localhost:8080/",
     "height": 143
    },
    "executionInfo": {
     "elapsed": 4,
     "status": "ok",
     "timestamp": 1656293200984,
     "user": {
      "displayName": "Victor Freire",
      "userId": "18258112772960334498"
     },
     "user_tz": 180
    },
    "id": "-NxlmEtWc4dy",
    "outputId": "081bec50-cb5d-4bd2-ef1e-d4fced98c3e8"
   },
   "outputs": [
    {
     "data": {
      "text/html": [
       "\n",
       "  <div id=\"df-e4f83bc5-cab2-423d-9498-df0727a16f7b\">\n",
       "    <div class=\"colab-df-container\">\n",
       "      <div>\n",
       "<style scoped>\n",
       "    .dataframe tbody tr th:only-of-type {\n",
       "        vertical-align: middle;\n",
       "    }\n",
       "\n",
       "    .dataframe tbody tr th {\n",
       "        vertical-align: top;\n",
       "    }\n",
       "\n",
       "    .dataframe thead th {\n",
       "        text-align: right;\n",
       "    }\n",
       "</style>\n",
       "<table border=\"1\" class=\"dataframe\">\n",
       "  <thead>\n",
       "    <tr style=\"text-align: right;\">\n",
       "      <th></th>\n",
       "      <th>Model</th>\n",
       "      <th>Accuracy</th>\n",
       "      <th>AUC</th>\n",
       "      <th>Precision</th>\n",
       "      <th>Recall</th>\n",
       "    </tr>\n",
       "  </thead>\n",
       "  <tbody>\n",
       "    <tr>\n",
       "      <th>0</th>\n",
       "      <td>CatBoost Plain</td>\n",
       "      <td>0.447795</td>\n",
       "      <td>0.584260</td>\n",
       "      <td>0.410890</td>\n",
       "      <td>0.420022</td>\n",
       "    </tr>\n",
       "    <tr>\n",
       "      <th>0</th>\n",
       "      <td>CatBoost PSO Optimized</td>\n",
       "      <td>0.452983</td>\n",
       "      <td>0.587930</td>\n",
       "      <td>0.415399</td>\n",
       "      <td>0.418716</td>\n",
       "    </tr>\n",
       "    <tr>\n",
       "      <th>0</th>\n",
       "      <td>LGBM Plain</td>\n",
       "      <td>0.407912</td>\n",
       "      <td>0.572193</td>\n",
       "      <td>0.395636</td>\n",
       "      <td>0.398591</td>\n",
       "    </tr>\n",
       "  </tbody>\n",
       "</table>\n",
       "</div>\n",
       "      <button class=\"colab-df-convert\" onclick=\"convertToInteractive('df-e4f83bc5-cab2-423d-9498-df0727a16f7b')\"\n",
       "              title=\"Convert this dataframe to an interactive table.\"\n",
       "              style=\"display:none;\">\n",
       "        \n",
       "  <svg xmlns=\"http://www.w3.org/2000/svg\" height=\"24px\"viewBox=\"0 0 24 24\"\n",
       "       width=\"24px\">\n",
       "    <path d=\"M0 0h24v24H0V0z\" fill=\"none\"/>\n",
       "    <path d=\"M18.56 5.44l.94 2.06.94-2.06 2.06-.94-2.06-.94-.94-2.06-.94 2.06-2.06.94zm-11 1L8.5 8.5l.94-2.06 2.06-.94-2.06-.94L8.5 2.5l-.94 2.06-2.06.94zm10 10l.94 2.06.94-2.06 2.06-.94-2.06-.94-.94-2.06-.94 2.06-2.06.94z\"/><path d=\"M17.41 7.96l-1.37-1.37c-.4-.4-.92-.59-1.43-.59-.52 0-1.04.2-1.43.59L10.3 9.45l-7.72 7.72c-.78.78-.78 2.05 0 2.83L4 21.41c.39.39.9.59 1.41.59.51 0 1.02-.2 1.41-.59l7.78-7.78 2.81-2.81c.8-.78.8-2.07 0-2.86zM5.41 20L4 18.59l7.72-7.72 1.47 1.35L5.41 20z\"/>\n",
       "  </svg>\n",
       "      </button>\n",
       "      \n",
       "  <style>\n",
       "    .colab-df-container {\n",
       "      display:flex;\n",
       "      flex-wrap:wrap;\n",
       "      gap: 12px;\n",
       "    }\n",
       "\n",
       "    .colab-df-convert {\n",
       "      background-color: #E8F0FE;\n",
       "      border: none;\n",
       "      border-radius: 50%;\n",
       "      cursor: pointer;\n",
       "      display: none;\n",
       "      fill: #1967D2;\n",
       "      height: 32px;\n",
       "      padding: 0 0 0 0;\n",
       "      width: 32px;\n",
       "    }\n",
       "\n",
       "    .colab-df-convert:hover {\n",
       "      background-color: #E2EBFA;\n",
       "      box-shadow: 0px 1px 2px rgba(60, 64, 67, 0.3), 0px 1px 3px 1px rgba(60, 64, 67, 0.15);\n",
       "      fill: #174EA6;\n",
       "    }\n",
       "\n",
       "    [theme=dark] .colab-df-convert {\n",
       "      background-color: #3B4455;\n",
       "      fill: #D2E3FC;\n",
       "    }\n",
       "\n",
       "    [theme=dark] .colab-df-convert:hover {\n",
       "      background-color: #434B5C;\n",
       "      box-shadow: 0px 1px 3px 1px rgba(0, 0, 0, 0.15);\n",
       "      filter: drop-shadow(0px 1px 2px rgba(0, 0, 0, 0.3));\n",
       "      fill: #FFFFFF;\n",
       "    }\n",
       "  </style>\n",
       "\n",
       "      <script>\n",
       "        const buttonEl =\n",
       "          document.querySelector('#df-e4f83bc5-cab2-423d-9498-df0727a16f7b button.colab-df-convert');\n",
       "        buttonEl.style.display =\n",
       "          google.colab.kernel.accessAllowed ? 'block' : 'none';\n",
       "\n",
       "        async function convertToInteractive(key) {\n",
       "          const element = document.querySelector('#df-e4f83bc5-cab2-423d-9498-df0727a16f7b');\n",
       "          const dataTable =\n",
       "            await google.colab.kernel.invokeFunction('convertToInteractive',\n",
       "                                                     [key], {});\n",
       "          if (!dataTable) return;\n",
       "\n",
       "          const docLinkHtml = 'Like what you see? Visit the ' +\n",
       "            '<a target=\"_blank\" href=https://colab.research.google.com/notebooks/data_table.ipynb>data table notebook</a>'\n",
       "            + ' to learn more about interactive tables.';\n",
       "          element.innerHTML = '';\n",
       "          dataTable['output_type'] = 'display_data';\n",
       "          await google.colab.output.renderOutput(dataTable, element);\n",
       "          const docLink = document.createElement('div');\n",
       "          docLink.innerHTML = docLinkHtml;\n",
       "          element.appendChild(docLink);\n",
       "        }\n",
       "      </script>\n",
       "    </div>\n",
       "  </div>\n",
       "  "
      ],
      "text/plain": [
       "                    Model  Accuracy       AUC  Precision    Recall\n",
       "0          CatBoost Plain  0.447795  0.584260   0.410890  0.420022\n",
       "0  CatBoost PSO Optimized  0.452983  0.587930   0.415399  0.418716\n",
       "0              LGBM Plain  0.407912  0.572193   0.395636  0.398591"
      ]
     },
     "execution_count": 80,
     "metadata": {},
     "output_type": "execute_result"
    }
   ],
   "source": [
    "df_comparison"
   ]
  },
  {
   "cell_type": "markdown",
   "metadata": {
    "id": "GuM4i9hOHPzj"
   },
   "source": [
    "#### Optimization"
   ]
  },
  {
   "cell_type": "code",
   "execution_count": 25,
   "metadata": {
    "colab": {
     "base_uri": "https://localhost:8080/"
    },
    "executionInfo": {
     "elapsed": 73693,
     "status": "ok",
     "timestamp": 1656288147879,
     "user": {
      "displayName": "Victor Freire",
      "userId": "18258112772960334498"
     },
     "user_tz": 180
    },
    "id": "dKVrSUYyjGZG",
    "outputId": "5685fb81-e528-4d34-cabe-84db36e37665"
   },
   "outputs": [
    {
     "name": "stderr",
     "output_type": "stream",
     "text": [
      "integer_pso: 100%|██████████|10/10, best_cost=0.408\n",
      "2022-08-12 00:02:27,307 - integer_pso - INFO - Optimization finished | best cost: 0.4079355530616272, best pos: [4. 1.]\n"
     ]
    }
   ],
   "source": [
    "import tqdm.notebook as tq\n",
    "from itertools import product\n",
    "import statistics\n",
    "from collections import Counter\n",
    "\n",
    "@ps.cost\n",
    "def parab(X):\n",
    "\n",
    "    md = X[0]\n",
    "    lr = X[1]\n",
    "\n",
    "    lgbm = LGBMClassifier(n_estimators=50,\n",
    "                          learning_rate=abs(lr/16),\n",
    "                          max_depth=abs(int(md)),\n",
    "                          random_state=42)\n",
    "    lgbm.fit(X_train, y_train, eval_set = [(X_val, y_val)], verbose = 0)\n",
    "    y_val_lgbm = lgbm.predict_proba(X_val)\n",
    "    acc_val = metrics.roc_auc_score(y_val,y_val_lgbm, multi_class = 'ovo', average = 'macro')\n",
    "    \n",
    "    return 1-acc_val\n",
    "\n",
    "\n",
    "constraints = (np.array([0, 1]),\n",
    "               np.array([16, 16]))\n",
    "opt = IntOptimizerPSO(50,\n",
    "                      2,\n",
    "                      {\"c1\": 0.5, \"c2\": 0.3, \"w\": 1.9},\n",
    "                      bounds = constraints)\n",
    "\n",
    "c, p = opt.optimize(parab, 10)\n"
   ]
  },
  {
   "cell_type": "markdown",
   "metadata": {
    "id": "I8GYCHC1HWkP"
   },
   "source": [
    "#### After Optimization"
   ]
  },
  {
   "cell_type": "code",
   "execution_count": 93,
   "metadata": {
    "executionInfo": {
     "elapsed": 298,
     "status": "ok",
     "timestamp": 1656293275034,
     "user": {
      "displayName": "Victor Freire",
      "userId": "18258112772960334498"
     },
     "user_tz": 180
    },
    "id": "mRw8h_xAHYwC"
   },
   "outputs": [],
   "source": [
    "lgbm = LGBMClassifier(n_estimators=50,\n",
    "                          learning_rate= 1/16,\n",
    "                          max_depth= 4,\n",
    "                          random_state=42)\n",
    "\n",
    "lgbm.fit(X_train, y_train, eval_set = [(X_val, y_val)], verbose = 0)\n",
    "\n",
    "y_test_lgbm = lgbm.predict_proba(X_test)\n",
    "pred_test_lgbm = lgbm.predict(X_test)"
   ]
  },
  {
   "cell_type": "code",
   "execution_count": 82,
   "metadata": {
    "colab": {
     "base_uri": "https://localhost:8080/"
    },
    "executionInfo": {
     "elapsed": 2,
     "status": "ok",
     "timestamp": 1656293208807,
     "user": {
      "displayName": "Victor Freire",
      "userId": "18258112772960334498"
     },
     "user_tz": 180
    },
    "id": "Gs5bi7TdeFSB",
    "outputId": "8f3b76c2-0f89-49e9-b631-355573652614"
   },
   "outputs": [
    {
     "name": "stdout",
     "output_type": "stream",
     "text": [
      "Accuracy: 0.4588197146562905 \t AUC: 0.5957447121995362 \t Precision: 0.424718930795255 \t Recall: 0.4224707515648682\n"
     ]
    }
   ],
   "source": [
    "accuracy = metrics.accuracy_score(y_test, pred_test_lgbm)\n",
    "auc = metrics.roc_auc_score(y_test, y_test_lgbm, multi_class = 'ovo', average = 'macro')\n",
    "precision = metrics.precision_score(y_test, pred_test_lgbm, average = 'macro')\n",
    "recall = metrics.recall_score(y_test, pred_test_lgbm, average = 'macro')\n",
    "\n",
    "df_comparison = df_comparison.append(pd.DataFrame({\n",
    "    'Model': ['LGBM PSO Optimized'],\n",
    "    'Accuracy': [accuracy],\n",
    "    'AUC': [auc],\n",
    "    'Precision': [precision],\n",
    "    'Recall': [recall]\n",
    "}))\n",
    "\n",
    "print(f'Accuracy: {accuracy} \\t AUC: {auc} \\t Precision: {precision} \\t Recall: {recall}')"
   ]
  },
  {
   "cell_type": "code",
   "execution_count": 83,
   "metadata": {
    "colab": {
     "base_uri": "https://localhost:8080/",
     "height": 175
    },
    "executionInfo": {
     "elapsed": 329,
     "status": "ok",
     "timestamp": 1656293210455,
     "user": {
      "displayName": "Victor Freire",
      "userId": "18258112772960334498"
     },
     "user_tz": 180
    },
    "id": "LrR8MzRNeU4E",
    "outputId": "2b69099d-902a-4e4a-ed9d-d614e74c2c6e"
   },
   "outputs": [
    {
     "data": {
      "text/html": [
       "\n",
       "  <div id=\"df-eb75078d-ed26-45a8-b0d0-88368e6d060a\">\n",
       "    <div class=\"colab-df-container\">\n",
       "      <div>\n",
       "<style scoped>\n",
       "    .dataframe tbody tr th:only-of-type {\n",
       "        vertical-align: middle;\n",
       "    }\n",
       "\n",
       "    .dataframe tbody tr th {\n",
       "        vertical-align: top;\n",
       "    }\n",
       "\n",
       "    .dataframe thead th {\n",
       "        text-align: right;\n",
       "    }\n",
       "</style>\n",
       "<table border=\"1\" class=\"dataframe\">\n",
       "  <thead>\n",
       "    <tr style=\"text-align: right;\">\n",
       "      <th></th>\n",
       "      <th>Model</th>\n",
       "      <th>Accuracy</th>\n",
       "      <th>AUC</th>\n",
       "      <th>Precision</th>\n",
       "      <th>Recall</th>\n",
       "    </tr>\n",
       "  </thead>\n",
       "  <tbody>\n",
       "    <tr>\n",
       "      <th>0</th>\n",
       "      <td>CatBoost Plain</td>\n",
       "      <td>0.447795</td>\n",
       "      <td>0.584260</td>\n",
       "      <td>0.410890</td>\n",
       "      <td>0.420022</td>\n",
       "    </tr>\n",
       "    <tr>\n",
       "      <th>0</th>\n",
       "      <td>CatBoost PSO Optimized</td>\n",
       "      <td>0.452983</td>\n",
       "      <td>0.587930</td>\n",
       "      <td>0.415399</td>\n",
       "      <td>0.418716</td>\n",
       "    </tr>\n",
       "    <tr>\n",
       "      <th>0</th>\n",
       "      <td>LGBM Plain</td>\n",
       "      <td>0.407912</td>\n",
       "      <td>0.572193</td>\n",
       "      <td>0.395636</td>\n",
       "      <td>0.398591</td>\n",
       "    </tr>\n",
       "    <tr>\n",
       "      <th>0</th>\n",
       "      <td>LGBM PSO Optimized</td>\n",
       "      <td>0.458820</td>\n",
       "      <td>0.595745</td>\n",
       "      <td>0.424719</td>\n",
       "      <td>0.422471</td>\n",
       "    </tr>\n",
       "  </tbody>\n",
       "</table>\n",
       "</div>\n",
       "      <button class=\"colab-df-convert\" onclick=\"convertToInteractive('df-eb75078d-ed26-45a8-b0d0-88368e6d060a')\"\n",
       "              title=\"Convert this dataframe to an interactive table.\"\n",
       "              style=\"display:none;\">\n",
       "        \n",
       "  <svg xmlns=\"http://www.w3.org/2000/svg\" height=\"24px\"viewBox=\"0 0 24 24\"\n",
       "       width=\"24px\">\n",
       "    <path d=\"M0 0h24v24H0V0z\" fill=\"none\"/>\n",
       "    <path d=\"M18.56 5.44l.94 2.06.94-2.06 2.06-.94-2.06-.94-.94-2.06-.94 2.06-2.06.94zm-11 1L8.5 8.5l.94-2.06 2.06-.94-2.06-.94L8.5 2.5l-.94 2.06-2.06.94zm10 10l.94 2.06.94-2.06 2.06-.94-2.06-.94-.94-2.06-.94 2.06-2.06.94z\"/><path d=\"M17.41 7.96l-1.37-1.37c-.4-.4-.92-.59-1.43-.59-.52 0-1.04.2-1.43.59L10.3 9.45l-7.72 7.72c-.78.78-.78 2.05 0 2.83L4 21.41c.39.39.9.59 1.41.59.51 0 1.02-.2 1.41-.59l7.78-7.78 2.81-2.81c.8-.78.8-2.07 0-2.86zM5.41 20L4 18.59l7.72-7.72 1.47 1.35L5.41 20z\"/>\n",
       "  </svg>\n",
       "      </button>\n",
       "      \n",
       "  <style>\n",
       "    .colab-df-container {\n",
       "      display:flex;\n",
       "      flex-wrap:wrap;\n",
       "      gap: 12px;\n",
       "    }\n",
       "\n",
       "    .colab-df-convert {\n",
       "      background-color: #E8F0FE;\n",
       "      border: none;\n",
       "      border-radius: 50%;\n",
       "      cursor: pointer;\n",
       "      display: none;\n",
       "      fill: #1967D2;\n",
       "      height: 32px;\n",
       "      padding: 0 0 0 0;\n",
       "      width: 32px;\n",
       "    }\n",
       "\n",
       "    .colab-df-convert:hover {\n",
       "      background-color: #E2EBFA;\n",
       "      box-shadow: 0px 1px 2px rgba(60, 64, 67, 0.3), 0px 1px 3px 1px rgba(60, 64, 67, 0.15);\n",
       "      fill: #174EA6;\n",
       "    }\n",
       "\n",
       "    [theme=dark] .colab-df-convert {\n",
       "      background-color: #3B4455;\n",
       "      fill: #D2E3FC;\n",
       "    }\n",
       "\n",
       "    [theme=dark] .colab-df-convert:hover {\n",
       "      background-color: #434B5C;\n",
       "      box-shadow: 0px 1px 3px 1px rgba(0, 0, 0, 0.15);\n",
       "      filter: drop-shadow(0px 1px 2px rgba(0, 0, 0, 0.3));\n",
       "      fill: #FFFFFF;\n",
       "    }\n",
       "  </style>\n",
       "\n",
       "      <script>\n",
       "        const buttonEl =\n",
       "          document.querySelector('#df-eb75078d-ed26-45a8-b0d0-88368e6d060a button.colab-df-convert');\n",
       "        buttonEl.style.display =\n",
       "          google.colab.kernel.accessAllowed ? 'block' : 'none';\n",
       "\n",
       "        async function convertToInteractive(key) {\n",
       "          const element = document.querySelector('#df-eb75078d-ed26-45a8-b0d0-88368e6d060a');\n",
       "          const dataTable =\n",
       "            await google.colab.kernel.invokeFunction('convertToInteractive',\n",
       "                                                     [key], {});\n",
       "          if (!dataTable) return;\n",
       "\n",
       "          const docLinkHtml = 'Like what you see? Visit the ' +\n",
       "            '<a target=\"_blank\" href=https://colab.research.google.com/notebooks/data_table.ipynb>data table notebook</a>'\n",
       "            + ' to learn more about interactive tables.';\n",
       "          element.innerHTML = '';\n",
       "          dataTable['output_type'] = 'display_data';\n",
       "          await google.colab.output.renderOutput(dataTable, element);\n",
       "          const docLink = document.createElement('div');\n",
       "          docLink.innerHTML = docLinkHtml;\n",
       "          element.appendChild(docLink);\n",
       "        }\n",
       "      </script>\n",
       "    </div>\n",
       "  </div>\n",
       "  "
      ],
      "text/plain": [
       "                    Model  Accuracy       AUC  Precision    Recall\n",
       "0          CatBoost Plain  0.447795  0.584260   0.410890  0.420022\n",
       "0  CatBoost PSO Optimized  0.452983  0.587930   0.415399  0.418716\n",
       "0              LGBM Plain  0.407912  0.572193   0.395636  0.398591\n",
       "0      LGBM PSO Optimized  0.458820  0.595745   0.424719  0.422471"
      ]
     },
     "execution_count": 83,
     "metadata": {},
     "output_type": "execute_result"
    }
   ],
   "source": [
    "df_comparison"
   ]
  },
  {
   "cell_type": "markdown",
   "metadata": {
    "id": "_sJ6bhHHHdfs"
   },
   "source": [
    "### XGBoost"
   ]
  },
  {
   "cell_type": "markdown",
   "metadata": {
    "id": "DJ5b3oB3HhQq"
   },
   "source": [
    "#### Before Optimization"
   ]
  },
  {
   "cell_type": "code",
   "execution_count": 84,
   "metadata": {
    "executionInfo": {
     "elapsed": 749,
     "status": "ok",
     "timestamp": 1656293220289,
     "user": {
      "displayName": "Victor Freire",
      "userId": "18258112772960334498"
     },
     "user_tz": 180
    },
    "id": "bB6SSS6DHjMb"
   },
   "outputs": [],
   "source": [
    "xgb = XGBClassifier()\n",
    "\n",
    "xgb.fit(X_train, y_train, eval_set = [(X_val, y_val)], verbose = 0)\n",
    "\n",
    "y_test_xgb = xgb.predict_proba(X_test)\n",
    "pred_test_xgb = xgb.predict(X_test)"
   ]
  },
  {
   "cell_type": "code",
   "execution_count": 85,
   "metadata": {
    "colab": {
     "base_uri": "https://localhost:8080/"
    },
    "executionInfo": {
     "elapsed": 3,
     "status": "ok",
     "timestamp": 1656293220290,
     "user": {
      "displayName": "Victor Freire",
      "userId": "18258112772960334498"
     },
     "user_tz": 180
    },
    "id": "7XC5BEnieqR7",
    "outputId": "d585f1c1-a06e-4ee0-e5d4-9de41f6d17e9"
   },
   "outputs": [
    {
     "name": "stdout",
     "output_type": "stream",
     "text": [
      "Accuracy: 0.44293125810635536 \t AUC: 0.5835852706811223 \t Precision: 0.4103295918494496 \t Recall: 0.41502299140138027\n"
     ]
    }
   ],
   "source": [
    "accuracy = metrics.accuracy_score(y_test, pred_test_xgb)\n",
    "auc = metrics.roc_auc_score(y_test, y_test_xgb, multi_class = 'ovo', average = 'macro')\n",
    "precision = metrics.precision_score(y_test, pred_test_xgb, average = 'macro')\n",
    "recall = metrics.recall_score(y_test, pred_test_xgb, average = 'macro')\n",
    "\n",
    "df_comparison = df_comparison.append(pd.DataFrame({\n",
    "    'Model': ['XGBoost Plain'],\n",
    "    'Accuracy': [accuracy],\n",
    "    'AUC': [auc],\n",
    "    'Precision': [precision],\n",
    "    'Recall': [recall]\n",
    "}))\n",
    "\n",
    "print(f'Accuracy: {accuracy} \\t AUC: {auc} \\t Precision: {precision} \\t Recall: {recall}')"
   ]
  },
  {
   "cell_type": "code",
   "execution_count": 86,
   "metadata": {
    "colab": {
     "base_uri": "https://localhost:8080/",
     "height": 206
    },
    "executionInfo": {
     "elapsed": 2,
     "status": "ok",
     "timestamp": 1656293220627,
     "user": {
      "displayName": "Victor Freire",
      "userId": "18258112772960334498"
     },
     "user_tz": 180
    },
    "id": "JpYSKx8Weztk",
    "outputId": "8376b673-50a7-4537-966c-a9a9af9f9ec2"
   },
   "outputs": [
    {
     "data": {
      "text/html": [
       "\n",
       "  <div id=\"df-68beb991-87e3-45bf-b562-9fc39b2b4141\">\n",
       "    <div class=\"colab-df-container\">\n",
       "      <div>\n",
       "<style scoped>\n",
       "    .dataframe tbody tr th:only-of-type {\n",
       "        vertical-align: middle;\n",
       "    }\n",
       "\n",
       "    .dataframe tbody tr th {\n",
       "        vertical-align: top;\n",
       "    }\n",
       "\n",
       "    .dataframe thead th {\n",
       "        text-align: right;\n",
       "    }\n",
       "</style>\n",
       "<table border=\"1\" class=\"dataframe\">\n",
       "  <thead>\n",
       "    <tr style=\"text-align: right;\">\n",
       "      <th></th>\n",
       "      <th>Model</th>\n",
       "      <th>Accuracy</th>\n",
       "      <th>AUC</th>\n",
       "      <th>Precision</th>\n",
       "      <th>Recall</th>\n",
       "    </tr>\n",
       "  </thead>\n",
       "  <tbody>\n",
       "    <tr>\n",
       "      <th>0</th>\n",
       "      <td>CatBoost Plain</td>\n",
       "      <td>0.447795</td>\n",
       "      <td>0.584260</td>\n",
       "      <td>0.410890</td>\n",
       "      <td>0.420022</td>\n",
       "    </tr>\n",
       "    <tr>\n",
       "      <th>0</th>\n",
       "      <td>CatBoost PSO Optimized</td>\n",
       "      <td>0.452983</td>\n",
       "      <td>0.587930</td>\n",
       "      <td>0.415399</td>\n",
       "      <td>0.418716</td>\n",
       "    </tr>\n",
       "    <tr>\n",
       "      <th>0</th>\n",
       "      <td>LGBM Plain</td>\n",
       "      <td>0.407912</td>\n",
       "      <td>0.572193</td>\n",
       "      <td>0.395636</td>\n",
       "      <td>0.398591</td>\n",
       "    </tr>\n",
       "    <tr>\n",
       "      <th>0</th>\n",
       "      <td>LGBM PSO Optimized</td>\n",
       "      <td>0.458820</td>\n",
       "      <td>0.595745</td>\n",
       "      <td>0.424719</td>\n",
       "      <td>0.422471</td>\n",
       "    </tr>\n",
       "    <tr>\n",
       "      <th>0</th>\n",
       "      <td>XGBoost Plain</td>\n",
       "      <td>0.442931</td>\n",
       "      <td>0.583585</td>\n",
       "      <td>0.410330</td>\n",
       "      <td>0.415023</td>\n",
       "    </tr>\n",
       "  </tbody>\n",
       "</table>\n",
       "</div>\n",
       "      <button class=\"colab-df-convert\" onclick=\"convertToInteractive('df-68beb991-87e3-45bf-b562-9fc39b2b4141')\"\n",
       "              title=\"Convert this dataframe to an interactive table.\"\n",
       "              style=\"display:none;\">\n",
       "        \n",
       "  <svg xmlns=\"http://www.w3.org/2000/svg\" height=\"24px\"viewBox=\"0 0 24 24\"\n",
       "       width=\"24px\">\n",
       "    <path d=\"M0 0h24v24H0V0z\" fill=\"none\"/>\n",
       "    <path d=\"M18.56 5.44l.94 2.06.94-2.06 2.06-.94-2.06-.94-.94-2.06-.94 2.06-2.06.94zm-11 1L8.5 8.5l.94-2.06 2.06-.94-2.06-.94L8.5 2.5l-.94 2.06-2.06.94zm10 10l.94 2.06.94-2.06 2.06-.94-2.06-.94-.94-2.06-.94 2.06-2.06.94z\"/><path d=\"M17.41 7.96l-1.37-1.37c-.4-.4-.92-.59-1.43-.59-.52 0-1.04.2-1.43.59L10.3 9.45l-7.72 7.72c-.78.78-.78 2.05 0 2.83L4 21.41c.39.39.9.59 1.41.59.51 0 1.02-.2 1.41-.59l7.78-7.78 2.81-2.81c.8-.78.8-2.07 0-2.86zM5.41 20L4 18.59l7.72-7.72 1.47 1.35L5.41 20z\"/>\n",
       "  </svg>\n",
       "      </button>\n",
       "      \n",
       "  <style>\n",
       "    .colab-df-container {\n",
       "      display:flex;\n",
       "      flex-wrap:wrap;\n",
       "      gap: 12px;\n",
       "    }\n",
       "\n",
       "    .colab-df-convert {\n",
       "      background-color: #E8F0FE;\n",
       "      border: none;\n",
       "      border-radius: 50%;\n",
       "      cursor: pointer;\n",
       "      display: none;\n",
       "      fill: #1967D2;\n",
       "      height: 32px;\n",
       "      padding: 0 0 0 0;\n",
       "      width: 32px;\n",
       "    }\n",
       "\n",
       "    .colab-df-convert:hover {\n",
       "      background-color: #E2EBFA;\n",
       "      box-shadow: 0px 1px 2px rgba(60, 64, 67, 0.3), 0px 1px 3px 1px rgba(60, 64, 67, 0.15);\n",
       "      fill: #174EA6;\n",
       "    }\n",
       "\n",
       "    [theme=dark] .colab-df-convert {\n",
       "      background-color: #3B4455;\n",
       "      fill: #D2E3FC;\n",
       "    }\n",
       "\n",
       "    [theme=dark] .colab-df-convert:hover {\n",
       "      background-color: #434B5C;\n",
       "      box-shadow: 0px 1px 3px 1px rgba(0, 0, 0, 0.15);\n",
       "      filter: drop-shadow(0px 1px 2px rgba(0, 0, 0, 0.3));\n",
       "      fill: #FFFFFF;\n",
       "    }\n",
       "  </style>\n",
       "\n",
       "      <script>\n",
       "        const buttonEl =\n",
       "          document.querySelector('#df-68beb991-87e3-45bf-b562-9fc39b2b4141 button.colab-df-convert');\n",
       "        buttonEl.style.display =\n",
       "          google.colab.kernel.accessAllowed ? 'block' : 'none';\n",
       "\n",
       "        async function convertToInteractive(key) {\n",
       "          const element = document.querySelector('#df-68beb991-87e3-45bf-b562-9fc39b2b4141');\n",
       "          const dataTable =\n",
       "            await google.colab.kernel.invokeFunction('convertToInteractive',\n",
       "                                                     [key], {});\n",
       "          if (!dataTable) return;\n",
       "\n",
       "          const docLinkHtml = 'Like what you see? Visit the ' +\n",
       "            '<a target=\"_blank\" href=https://colab.research.google.com/notebooks/data_table.ipynb>data table notebook</a>'\n",
       "            + ' to learn more about interactive tables.';\n",
       "          element.innerHTML = '';\n",
       "          dataTable['output_type'] = 'display_data';\n",
       "          await google.colab.output.renderOutput(dataTable, element);\n",
       "          const docLink = document.createElement('div');\n",
       "          docLink.innerHTML = docLinkHtml;\n",
       "          element.appendChild(docLink);\n",
       "        }\n",
       "      </script>\n",
       "    </div>\n",
       "  </div>\n",
       "  "
      ],
      "text/plain": [
       "                    Model  Accuracy       AUC  Precision    Recall\n",
       "0          CatBoost Plain  0.447795  0.584260   0.410890  0.420022\n",
       "0  CatBoost PSO Optimized  0.452983  0.587930   0.415399  0.418716\n",
       "0              LGBM Plain  0.407912  0.572193   0.395636  0.398591\n",
       "0      LGBM PSO Optimized  0.458820  0.595745   0.424719  0.422471\n",
       "0           XGBoost Plain  0.442931  0.583585   0.410330  0.415023"
      ]
     },
     "execution_count": 86,
     "metadata": {},
     "output_type": "execute_result"
    }
   ],
   "source": [
    "df_comparison"
   ]
  },
  {
   "cell_type": "markdown",
   "metadata": {
    "id": "Y7zeHkzaH1k6"
   },
   "source": [
    "#### Optimization"
   ]
  },
  {
   "cell_type": "code",
   "execution_count": 37,
   "metadata": {
    "colab": {
     "base_uri": "https://localhost:8080/"
    },
    "executionInfo": {
     "elapsed": 395062,
     "status": "ok",
     "timestamp": 1656289390211,
     "user": {
      "displayName": "Victor Freire",
      "userId": "18258112772960334498"
     },
     "user_tz": 180
    },
    "id": "pSVZ6Vf-x_UE",
    "outputId": "22ce278d-5bbf-45b9-a22c-73638ac24402"
   },
   "outputs": [
    {
     "name": "stderr",
     "output_type": "stream",
     "text": [
      "integer_pso: 100%|██████████|20/20, best_cost=0.41\n",
      "2022-08-12 00:23:09,718 - integer_pso - INFO - Optimization finished | best cost: 0.4103705412864599, best pos: [ 4.  2. 13.]\n"
     ]
    }
   ],
   "source": [
    "import tqdm.notebook as tq\n",
    "from itertools import product\n",
    "import statistics\n",
    "from collections import Counter\n",
    "\n",
    "\n",
    "@ps.cost\n",
    "def parab(X):\n",
    "\n",
    "    lr = X[0]\n",
    "    md = X[1]\n",
    "    mcw = X[2]\n",
    "\n",
    "    xgb = XGBClassifier(learning_rate=abs(lr/16),\n",
    "                                n_estimators=50,\n",
    "                                min_child_weight = abs(int(mcw)),\n",
    "                                max_depth = abs(int(md)),\n",
    "                                silent=True,\n",
    "                                nthread=-1)\n",
    "    xgb.fit(X_train, y_train, eval_set = [(X_val, y_val)], verbose = False)\n",
    "    y_val_xgb = xgb.predict_proba(X_val)\n",
    "    acc_val = metrics.roc_auc_score(y_val,y_val_xgb, multi_class = 'ovo', average = 'macro')\n",
    "    \n",
    "    return 1-acc_val\n",
    "\n",
    "\n",
    "constraints = (np.array([1, 0, 0]),\n",
    "               np.array([16, 16, 16]))\n",
    "opt = IntOptimizerPSO(50,\n",
    "                      3,\n",
    "                      {\"c1\": 0.5, \"c2\": 0.3, \"w\": 1.9},\n",
    "                      bounds = constraints)\n",
    "\n",
    "c, p = opt.optimize(parab, 20)"
   ]
  },
  {
   "cell_type": "markdown",
   "metadata": {
    "id": "k3_JQLaLH4d8"
   },
   "source": [
    "#### After Optimization"
   ]
  },
  {
   "cell_type": "code",
   "execution_count": 92,
   "metadata": {
    "executionInfo": {
     "elapsed": 272,
     "status": "ok",
     "timestamp": 1656293268517,
     "user": {
      "displayName": "Victor Freire",
      "userId": "18258112772960334498"
     },
     "user_tz": 180
    },
    "id": "5aZUq8ziH7QA"
   },
   "outputs": [],
   "source": [
    "xgb = XGBClassifier(learning_rate= 4/16,\n",
    "                                n_estimators=50,\n",
    "                                min_child_weight = 13,\n",
    "                                max_depth = 2,\n",
    "                                silent=True,\n",
    "                                nthread=-1)\n",
    "\n",
    "xgb.fit(X_train, y_train, eval_set = [(X_val, y_val)], verbose = 0)\n",
    "\n",
    "y_test_xgb = xgb.predict_proba(X_test)\n",
    "pred_test_xgb = xgb.predict(X_test)"
   ]
  },
  {
   "cell_type": "code",
   "execution_count": 88,
   "metadata": {
    "colab": {
     "base_uri": "https://localhost:8080/"
    },
    "executionInfo": {
     "elapsed": 2,
     "status": "ok",
     "timestamp": 1656293228210,
     "user": {
      "displayName": "Victor Freire",
      "userId": "18258112772960334498"
     },
     "user_tz": 180
    },
    "id": "CVcOb5UcgaAi",
    "outputId": "1d8a1e75-ef31-4427-e030-92e7c23b674f"
   },
   "outputs": [
    {
     "name": "stdout",
     "output_type": "stream",
     "text": [
      "Accuracy: 0.45460440985732814 \t AUC: 0.5878284963328784 \t Precision: 0.4259883772187241 \t Recall: 0.42679591272542156\n"
     ]
    }
   ],
   "source": [
    "accuracy = metrics.accuracy_score(y_test, pred_test_xgb)\n",
    "auc = metrics.roc_auc_score(y_test, y_test_xgb, multi_class = 'ovo', average = 'macro')\n",
    "precision = metrics.precision_score(y_test, pred_test_xgb, average = 'macro')\n",
    "recall = metrics.recall_score(y_test, pred_test_xgb, average = 'macro')\n",
    "\n",
    "df_comparison = df_comparison.append(pd.DataFrame({\n",
    "    'Model': ['XGBoost PSO Optimized'],\n",
    "    'Accuracy': [accuracy],\n",
    "    'AUC': [auc],\n",
    "    'Precision': [precision],\n",
    "    'Recall': [recall]\n",
    "}))\n",
    "\n",
    "print(f'Accuracy: {accuracy} \\t AUC: {auc} \\t Precision: {precision} \\t Recall: {recall}')"
   ]
  },
  {
   "cell_type": "code",
   "execution_count": 89,
   "metadata": {
    "colab": {
     "base_uri": "https://localhost:8080/",
     "height": 238
    },
    "executionInfo": {
     "elapsed": 3,
     "status": "ok",
     "timestamp": 1656293228505,
     "user": {
      "displayName": "Victor Freire",
      "userId": "18258112772960334498"
     },
     "user_tz": 180
    },
    "id": "RqotCgzxgi9q",
    "outputId": "e19fe035-7672-489d-c9ce-21ab19c7813e"
   },
   "outputs": [
    {
     "data": {
      "text/html": [
       "\n",
       "  <div id=\"df-17ed9461-5923-4a5c-b416-9ecc7cf2838e\">\n",
       "    <div class=\"colab-df-container\">\n",
       "      <div>\n",
       "<style scoped>\n",
       "    .dataframe tbody tr th:only-of-type {\n",
       "        vertical-align: middle;\n",
       "    }\n",
       "\n",
       "    .dataframe tbody tr th {\n",
       "        vertical-align: top;\n",
       "    }\n",
       "\n",
       "    .dataframe thead th {\n",
       "        text-align: right;\n",
       "    }\n",
       "</style>\n",
       "<table border=\"1\" class=\"dataframe\">\n",
       "  <thead>\n",
       "    <tr style=\"text-align: right;\">\n",
       "      <th></th>\n",
       "      <th>Model</th>\n",
       "      <th>Accuracy</th>\n",
       "      <th>AUC</th>\n",
       "      <th>Precision</th>\n",
       "      <th>Recall</th>\n",
       "    </tr>\n",
       "  </thead>\n",
       "  <tbody>\n",
       "    <tr>\n",
       "      <th>0</th>\n",
       "      <td>CatBoost Plain</td>\n",
       "      <td>0.447795</td>\n",
       "      <td>0.584260</td>\n",
       "      <td>0.410890</td>\n",
       "      <td>0.420022</td>\n",
       "    </tr>\n",
       "    <tr>\n",
       "      <th>0</th>\n",
       "      <td>CatBoost PSO Optimized</td>\n",
       "      <td>0.452983</td>\n",
       "      <td>0.587930</td>\n",
       "      <td>0.415399</td>\n",
       "      <td>0.418716</td>\n",
       "    </tr>\n",
       "    <tr>\n",
       "      <th>0</th>\n",
       "      <td>LGBM Plain</td>\n",
       "      <td>0.407912</td>\n",
       "      <td>0.572193</td>\n",
       "      <td>0.395636</td>\n",
       "      <td>0.398591</td>\n",
       "    </tr>\n",
       "    <tr>\n",
       "      <th>0</th>\n",
       "      <td>LGBM PSO Optimized</td>\n",
       "      <td>0.458820</td>\n",
       "      <td>0.595745</td>\n",
       "      <td>0.424719</td>\n",
       "      <td>0.422471</td>\n",
       "    </tr>\n",
       "    <tr>\n",
       "      <th>0</th>\n",
       "      <td>XGBoost Plain</td>\n",
       "      <td>0.442931</td>\n",
       "      <td>0.583585</td>\n",
       "      <td>0.410330</td>\n",
       "      <td>0.415023</td>\n",
       "    </tr>\n",
       "    <tr>\n",
       "      <th>0</th>\n",
       "      <td>XGBoost PSO Optimized</td>\n",
       "      <td>0.454604</td>\n",
       "      <td>0.587828</td>\n",
       "      <td>0.425988</td>\n",
       "      <td>0.426796</td>\n",
       "    </tr>\n",
       "  </tbody>\n",
       "</table>\n",
       "</div>\n",
       "      <button class=\"colab-df-convert\" onclick=\"convertToInteractive('df-17ed9461-5923-4a5c-b416-9ecc7cf2838e')\"\n",
       "              title=\"Convert this dataframe to an interactive table.\"\n",
       "              style=\"display:none;\">\n",
       "        \n",
       "  <svg xmlns=\"http://www.w3.org/2000/svg\" height=\"24px\"viewBox=\"0 0 24 24\"\n",
       "       width=\"24px\">\n",
       "    <path d=\"M0 0h24v24H0V0z\" fill=\"none\"/>\n",
       "    <path d=\"M18.56 5.44l.94 2.06.94-2.06 2.06-.94-2.06-.94-.94-2.06-.94 2.06-2.06.94zm-11 1L8.5 8.5l.94-2.06 2.06-.94-2.06-.94L8.5 2.5l-.94 2.06-2.06.94zm10 10l.94 2.06.94-2.06 2.06-.94-2.06-.94-.94-2.06-.94 2.06-2.06.94z\"/><path d=\"M17.41 7.96l-1.37-1.37c-.4-.4-.92-.59-1.43-.59-.52 0-1.04.2-1.43.59L10.3 9.45l-7.72 7.72c-.78.78-.78 2.05 0 2.83L4 21.41c.39.39.9.59 1.41.59.51 0 1.02-.2 1.41-.59l7.78-7.78 2.81-2.81c.8-.78.8-2.07 0-2.86zM5.41 20L4 18.59l7.72-7.72 1.47 1.35L5.41 20z\"/>\n",
       "  </svg>\n",
       "      </button>\n",
       "      \n",
       "  <style>\n",
       "    .colab-df-container {\n",
       "      display:flex;\n",
       "      flex-wrap:wrap;\n",
       "      gap: 12px;\n",
       "    }\n",
       "\n",
       "    .colab-df-convert {\n",
       "      background-color: #E8F0FE;\n",
       "      border: none;\n",
       "      border-radius: 50%;\n",
       "      cursor: pointer;\n",
       "      display: none;\n",
       "      fill: #1967D2;\n",
       "      height: 32px;\n",
       "      padding: 0 0 0 0;\n",
       "      width: 32px;\n",
       "    }\n",
       "\n",
       "    .colab-df-convert:hover {\n",
       "      background-color: #E2EBFA;\n",
       "      box-shadow: 0px 1px 2px rgba(60, 64, 67, 0.3), 0px 1px 3px 1px rgba(60, 64, 67, 0.15);\n",
       "      fill: #174EA6;\n",
       "    }\n",
       "\n",
       "    [theme=dark] .colab-df-convert {\n",
       "      background-color: #3B4455;\n",
       "      fill: #D2E3FC;\n",
       "    }\n",
       "\n",
       "    [theme=dark] .colab-df-convert:hover {\n",
       "      background-color: #434B5C;\n",
       "      box-shadow: 0px 1px 3px 1px rgba(0, 0, 0, 0.15);\n",
       "      filter: drop-shadow(0px 1px 2px rgba(0, 0, 0, 0.3));\n",
       "      fill: #FFFFFF;\n",
       "    }\n",
       "  </style>\n",
       "\n",
       "      <script>\n",
       "        const buttonEl =\n",
       "          document.querySelector('#df-17ed9461-5923-4a5c-b416-9ecc7cf2838e button.colab-df-convert');\n",
       "        buttonEl.style.display =\n",
       "          google.colab.kernel.accessAllowed ? 'block' : 'none';\n",
       "\n",
       "        async function convertToInteractive(key) {\n",
       "          const element = document.querySelector('#df-17ed9461-5923-4a5c-b416-9ecc7cf2838e');\n",
       "          const dataTable =\n",
       "            await google.colab.kernel.invokeFunction('convertToInteractive',\n",
       "                                                     [key], {});\n",
       "          if (!dataTable) return;\n",
       "\n",
       "          const docLinkHtml = 'Like what you see? Visit the ' +\n",
       "            '<a target=\"_blank\" href=https://colab.research.google.com/notebooks/data_table.ipynb>data table notebook</a>'\n",
       "            + ' to learn more about interactive tables.';\n",
       "          element.innerHTML = '';\n",
       "          dataTable['output_type'] = 'display_data';\n",
       "          await google.colab.output.renderOutput(dataTable, element);\n",
       "          const docLink = document.createElement('div');\n",
       "          docLink.innerHTML = docLinkHtml;\n",
       "          element.appendChild(docLink);\n",
       "        }\n",
       "      </script>\n",
       "    </div>\n",
       "  </div>\n",
       "  "
      ],
      "text/plain": [
       "                    Model  Accuracy       AUC  Precision    Recall\n",
       "0          CatBoost Plain  0.447795  0.584260   0.410890  0.420022\n",
       "0  CatBoost PSO Optimized  0.452983  0.587930   0.415399  0.418716\n",
       "0              LGBM Plain  0.407912  0.572193   0.395636  0.398591\n",
       "0      LGBM PSO Optimized  0.458820  0.595745   0.424719  0.422471\n",
       "0           XGBoost Plain  0.442931  0.583585   0.410330  0.415023\n",
       "0   XGBoost PSO Optimized  0.454604  0.587828   0.425988  0.426796"
      ]
     },
     "execution_count": 89,
     "metadata": {},
     "output_type": "execute_result"
    }
   ],
   "source": [
    "df_comparison"
   ]
  },
  {
   "cell_type": "markdown",
   "metadata": {
    "id": "25if4il2IHRZ"
   },
   "source": [
    "### Ensemble Voting Classifier"
   ]
  },
  {
   "cell_type": "code",
   "execution_count": 90,
   "metadata": {
    "executionInfo": {
     "elapsed": 1054,
     "status": "ok",
     "timestamp": 1656293240692,
     "user": {
      "displayName": "Victor Freire",
      "userId": "18258112772960334498"
     },
     "user_tz": 180
    },
    "id": "9L5PGO7BwmVd"
   },
   "outputs": [],
   "source": [
    "vc = VotingClassifier([('catboost', catboost), ('lgbm', lgbm), ('xgb', xgb)], voting = 'soft', weights=[1,1,1])\n",
    "vc.fit(X_train, y_train)\n",
    "y_pred_vc_test = vc.predict_proba(X_test)\n",
    "pred_test_vc = vc.predict(X_test)"
   ]
  },
  {
   "cell_type": "code",
   "execution_count": 91,
   "metadata": {
    "colab": {
     "base_uri": "https://localhost:8080/"
    },
    "executionInfo": {
     "elapsed": 293,
     "status": "ok",
     "timestamp": 1656293242615,
     "user": {
      "displayName": "Victor Freire",
      "userId": "18258112772960334498"
     },
     "user_tz": 180
    },
    "id": "Tx9_VY3iwnHD",
    "outputId": "342e8c75-047a-4a07-effb-af824da88159"
   },
   "outputs": [
    {
     "name": "stdout",
     "output_type": "stream",
     "text": [
      "Accuracy: 0.4591439688715953 \t AUC: 0.5928584757768697 \t Precision: 0.42488413590610835 \t Recall: 0.4261984019654517\n"
     ]
    }
   ],
   "source": [
    "accuracy = metrics.accuracy_score(y_test, pred_test_vc)\n",
    "auc = metrics.roc_auc_score(y_test, y_pred_vc_test, multi_class = 'ovo', average = 'macro')\n",
    "precision = metrics.precision_score(y_test, pred_test_vc, average = 'macro')\n",
    "recall = metrics.recall_score(y_test, pred_test_vc, average = 'macro')\n",
    "\n",
    "df_comparison = df_comparison.append(pd.DataFrame({\n",
    "    'Model': ['Ensemble Plain'],\n",
    "    'Accuracy': [accuracy],\n",
    "    'AUC': [auc],\n",
    "    'Precision': [precision],\n",
    "    'Recall': [recall]\n",
    "}))\n",
    "\n",
    "print(f'Accuracy: {accuracy} \\t AUC: {auc} \\t Precision: {precision} \\t Recall: {recall}')"
   ]
  },
  {
   "cell_type": "markdown",
   "metadata": {
    "id": "ySAA000hIKzX"
   },
   "source": [
    "#### Genetic Algorithm to find best params"
   ]
  },
  {
   "cell_type": "code",
   "execution_count": 99,
   "metadata": {
    "colab": {
     "base_uri": "https://localhost:8080/"
    },
    "executionInfo": {
     "elapsed": 986444,
     "status": "ok",
     "timestamp": 1656295122686,
     "user": {
      "displayName": "Victor Freire",
      "userId": "18258112772960334498"
     },
     "user_tz": 180
    },
    "id": "qyfu9osj0Zt7",
    "outputId": "3556b2e1-1c67-4695-b66f-afbbd2b8c94f"
   },
   "outputs": [
    {
     "name": "stdout",
     "output_type": "stream",
     "text": [
      "Parameters of the best solution : [6 1 1]\n",
      "Fitness value of the best solution = 0.6039769288751404\n"
     ]
    }
   ],
   "source": [
    "from sklearn.ensemble import VotingClassifier\n",
    "import pygad\n",
    "\n",
    "desired_output = 0.99\n",
    "\n",
    "def fitness_function(solution, solution_idx):\n",
    "    vc = VotingClassifier([('catboost', catboost), ('lgbm', lgbm), ('xgb', xgb)], voting = 'soft', weights=[solution[0], solution[1], solution[2]])\n",
    "    vc.fit(X_train, y_train)\n",
    "    y_pred_vc_val = vc.predict_proba(X_val)\n",
    "    output = metrics.roc_auc_score(y_val, y_pred_vc_val, multi_class = 'ovo', average = 'macro')\n",
    "    # fitness = 1.0 / np.abs(output - desired_output)\n",
    "\n",
    "    return output\n",
    "\n",
    "gene_space = {\"low\": 1, \"high\": 8, \"step\": 1}\n",
    "gene_type=int\n",
    "num_generations = 100\n",
    "num_parents_mating = 10\n",
    "\n",
    "sol_per_pop = 20\n",
    "num_genes = 3\n",
    "\n",
    "parent_selection_type = \"tournament\"\n",
    "keep_parents = 4\n",
    "\n",
    "crossover_type = \"single_point\"\n",
    "\n",
    "mutation_type = \"random\"\n",
    "mutation_percent_genes = 40\n",
    "\n",
    "ga_instance = pygad.GA(num_generations=num_generations,\n",
    "                       num_parents_mating=num_parents_mating,\n",
    "                       fitness_func=fitness_function,\n",
    "                       sol_per_pop=sol_per_pop,\n",
    "                       num_genes=num_genes,\n",
    "                       parent_selection_type=parent_selection_type,\n",
    "                       keep_parents=keep_parents,\n",
    "                       crossover_type=crossover_type,\n",
    "                       mutation_type=mutation_type,\n",
    "                       mutation_percent_genes=mutation_percent_genes,\n",
    "                       gene_space=gene_space,\n",
    "                       gene_type=gene_type)\n",
    "\t\t\t\t\t   \n",
    "ga_instance.run()\n",
    "solution, solution_fitness, solution_idx = ga_instance.best_solution()\n",
    "print(\"Parameters of the best solution : {solution}\".format(solution=solution))\n",
    "print(\"Fitness value of the best solution = {solution_fitness}\".format(solution_fitness=solution_fitness))"
   ]
  },
  {
   "cell_type": "markdown",
   "metadata": {
    "id": "f5tcuhHkIPlE"
   },
   "source": [
    "#### Results"
   ]
  },
  {
   "cell_type": "code",
   "execution_count": 97,
   "metadata": {
    "executionInfo": {
     "elapsed": 1088,
     "status": "ok",
     "timestamp": 1656294066075,
     "user": {
      "displayName": "Victor Freire",
      "userId": "18258112772960334498"
     },
     "user_tz": 180
    },
    "id": "-AhPiEuH_f93"
   },
   "outputs": [],
   "source": [
    "vc = VotingClassifier([('catboost', catboost), ('lgbm', lgbm), ('xgb', xgb)], voting = 'soft', weights=[solution[0],solution[1],solution[2]])\n",
    "vc.fit(X_train, y_train)\n",
    "y_pred_vc_test = vc.predict_proba(X_test)\n",
    "pred_test_vc = vc.predict(X_test)"
   ]
  },
  {
   "cell_type": "code",
   "execution_count": 98,
   "metadata": {
    "colab": {
     "base_uri": "https://localhost:8080/"
    },
    "executionInfo": {
     "elapsed": 275,
     "status": "ok",
     "timestamp": 1656294074465,
     "user": {
      "displayName": "Victor Freire",
      "userId": "18258112772960334498"
     },
     "user_tz": 180
    },
    "id": "vX02vb_goM3Q",
    "outputId": "2c1da1ac-5688-43b7-afb0-a6669af1b0c5"
   },
   "outputs": [
    {
     "name": "stdout",
     "output_type": "stream",
     "text": [
      "Accuracy: 0.45395590142671854 \t AUC: 0.5916323174665366 \t Precision: 0.416714044844178 \t Recall: 0.42069066322462806\n"
     ]
    }
   ],
   "source": [
    "accuracy = metrics.accuracy_score(y_test, pred_test_vc)\n",
    "auc = metrics.roc_auc_score(y_test, y_pred_vc_test, multi_class = 'ovo', average = 'macro')\n",
    "precision = metrics.precision_score(y_test, pred_test_vc, average = 'macro')\n",
    "recall = metrics.recall_score(y_test, pred_test_vc, average = 'macro')\n",
    "\n",
    "print(f'Accuracy: {accuracy} \\t AUC: {auc} \\t Precision: {precision} \\t Recall: {recall}')"
   ]
  },
  {
   "cell_type": "code",
   "execution_count": 70,
   "metadata": {
    "colab": {
     "base_uri": "https://localhost:8080/",
     "height": 300
    },
    "executionInfo": {
     "elapsed": 301,
     "status": "ok",
     "timestamp": 1656291011664,
     "user": {
      "displayName": "Victor Freire",
      "userId": "18258112772960334498"
     },
     "user_tz": 180
    },
    "id": "RaFAOR6Hog0P",
    "outputId": "4cad0963-29de-40db-add6-2af01739b83c"
   },
   "outputs": [
    {
     "data": {
      "text/html": [
       "\n",
       "  <div id=\"df-1326d945-87d9-4d54-afc6-996c0428cbee\">\n",
       "    <div class=\"colab-df-container\">\n",
       "      <div>\n",
       "<style scoped>\n",
       "    .dataframe tbody tr th:only-of-type {\n",
       "        vertical-align: middle;\n",
       "    }\n",
       "\n",
       "    .dataframe tbody tr th {\n",
       "        vertical-align: top;\n",
       "    }\n",
       "\n",
       "    .dataframe thead th {\n",
       "        text-align: right;\n",
       "    }\n",
       "</style>\n",
       "<table border=\"1\" class=\"dataframe\">\n",
       "  <thead>\n",
       "    <tr style=\"text-align: right;\">\n",
       "      <th></th>\n",
       "      <th>Model</th>\n",
       "      <th>Accuracy</th>\n",
       "      <th>AUC</th>\n",
       "      <th>Precision</th>\n",
       "      <th>Recall</th>\n",
       "    </tr>\n",
       "  </thead>\n",
       "  <tbody>\n",
       "    <tr>\n",
       "      <th>0</th>\n",
       "      <td>CatBoost Plain</td>\n",
       "      <td>0.447795</td>\n",
       "      <td>0.584260</td>\n",
       "      <td>0.410890</td>\n",
       "      <td>0.420022</td>\n",
       "    </tr>\n",
       "    <tr>\n",
       "      <th>0</th>\n",
       "      <td>CatBoost PSO Optimized</td>\n",
       "      <td>0.452983</td>\n",
       "      <td>0.587930</td>\n",
       "      <td>0.415399</td>\n",
       "      <td>0.418716</td>\n",
       "    </tr>\n",
       "    <tr>\n",
       "      <th>0</th>\n",
       "      <td>LGBM Plain</td>\n",
       "      <td>0.407912</td>\n",
       "      <td>0.572193</td>\n",
       "      <td>0.395636</td>\n",
       "      <td>0.398591</td>\n",
       "    </tr>\n",
       "    <tr>\n",
       "      <th>0</th>\n",
       "      <td>LGBM PSO Optimized</td>\n",
       "      <td>0.458820</td>\n",
       "      <td>0.595745</td>\n",
       "      <td>0.424719</td>\n",
       "      <td>0.422471</td>\n",
       "    </tr>\n",
       "    <tr>\n",
       "      <th>0</th>\n",
       "      <td>XGBoost Plain</td>\n",
       "      <td>0.442931</td>\n",
       "      <td>0.583585</td>\n",
       "      <td>0.410330</td>\n",
       "      <td>0.415023</td>\n",
       "    </tr>\n",
       "    <tr>\n",
       "      <th>0</th>\n",
       "      <td>XGBoost PSO Optimized</td>\n",
       "      <td>0.454604</td>\n",
       "      <td>0.587828</td>\n",
       "      <td>0.425988</td>\n",
       "      <td>0.426796</td>\n",
       "    </tr>\n",
       "    <tr>\n",
       "      <th>0</th>\n",
       "      <td>Ensemble GA Optimized</td>\n",
       "      <td>0.457847</td>\n",
       "      <td>0.592578</td>\n",
       "      <td>0.422925</td>\n",
       "      <td>0.424566</td>\n",
       "    </tr>\n",
       "    <tr>\n",
       "      <th>0</th>\n",
       "      <td>Ensemble Plain</td>\n",
       "      <td>0.459144</td>\n",
       "      <td>0.592858</td>\n",
       "      <td>0.424884</td>\n",
       "      <td>0.426198</td>\n",
       "    </tr>\n",
       "  </tbody>\n",
       "</table>\n",
       "</div>\n",
       "      <button class=\"colab-df-convert\" onclick=\"convertToInteractive('df-1326d945-87d9-4d54-afc6-996c0428cbee')\"\n",
       "              title=\"Convert this dataframe to an interactive table.\"\n",
       "              style=\"display:none;\">\n",
       "        \n",
       "  <svg xmlns=\"http://www.w3.org/2000/svg\" height=\"24px\"viewBox=\"0 0 24 24\"\n",
       "       width=\"24px\">\n",
       "    <path d=\"M0 0h24v24H0V0z\" fill=\"none\"/>\n",
       "    <path d=\"M18.56 5.44l.94 2.06.94-2.06 2.06-.94-2.06-.94-.94-2.06-.94 2.06-2.06.94zm-11 1L8.5 8.5l.94-2.06 2.06-.94-2.06-.94L8.5 2.5l-.94 2.06-2.06.94zm10 10l.94 2.06.94-2.06 2.06-.94-2.06-.94-.94-2.06-.94 2.06-2.06.94z\"/><path d=\"M17.41 7.96l-1.37-1.37c-.4-.4-.92-.59-1.43-.59-.52 0-1.04.2-1.43.59L10.3 9.45l-7.72 7.72c-.78.78-.78 2.05 0 2.83L4 21.41c.39.39.9.59 1.41.59.51 0 1.02-.2 1.41-.59l7.78-7.78 2.81-2.81c.8-.78.8-2.07 0-2.86zM5.41 20L4 18.59l7.72-7.72 1.47 1.35L5.41 20z\"/>\n",
       "  </svg>\n",
       "      </button>\n",
       "      \n",
       "  <style>\n",
       "    .colab-df-container {\n",
       "      display:flex;\n",
       "      flex-wrap:wrap;\n",
       "      gap: 12px;\n",
       "    }\n",
       "\n",
       "    .colab-df-convert {\n",
       "      background-color: #E8F0FE;\n",
       "      border: none;\n",
       "      border-radius: 50%;\n",
       "      cursor: pointer;\n",
       "      display: none;\n",
       "      fill: #1967D2;\n",
       "      height: 32px;\n",
       "      padding: 0 0 0 0;\n",
       "      width: 32px;\n",
       "    }\n",
       "\n",
       "    .colab-df-convert:hover {\n",
       "      background-color: #E2EBFA;\n",
       "      box-shadow: 0px 1px 2px rgba(60, 64, 67, 0.3), 0px 1px 3px 1px rgba(60, 64, 67, 0.15);\n",
       "      fill: #174EA6;\n",
       "    }\n",
       "\n",
       "    [theme=dark] .colab-df-convert {\n",
       "      background-color: #3B4455;\n",
       "      fill: #D2E3FC;\n",
       "    }\n",
       "\n",
       "    [theme=dark] .colab-df-convert:hover {\n",
       "      background-color: #434B5C;\n",
       "      box-shadow: 0px 1px 3px 1px rgba(0, 0, 0, 0.15);\n",
       "      filter: drop-shadow(0px 1px 2px rgba(0, 0, 0, 0.3));\n",
       "      fill: #FFFFFF;\n",
       "    }\n",
       "  </style>\n",
       "\n",
       "      <script>\n",
       "        const buttonEl =\n",
       "          document.querySelector('#df-1326d945-87d9-4d54-afc6-996c0428cbee button.colab-df-convert');\n",
       "        buttonEl.style.display =\n",
       "          google.colab.kernel.accessAllowed ? 'block' : 'none';\n",
       "\n",
       "        async function convertToInteractive(key) {\n",
       "          const element = document.querySelector('#df-1326d945-87d9-4d54-afc6-996c0428cbee');\n",
       "          const dataTable =\n",
       "            await google.colab.kernel.invokeFunction('convertToInteractive',\n",
       "                                                     [key], {});\n",
       "          if (!dataTable) return;\n",
       "\n",
       "          const docLinkHtml = 'Like what you see? Visit the ' +\n",
       "            '<a target=\"_blank\" href=https://colab.research.google.com/notebooks/data_table.ipynb>data table notebook</a>'\n",
       "            + ' to learn more about interactive tables.';\n",
       "          element.innerHTML = '';\n",
       "          dataTable['output_type'] = 'display_data';\n",
       "          await google.colab.output.renderOutput(dataTable, element);\n",
       "          const docLink = document.createElement('div');\n",
       "          docLink.innerHTML = docLinkHtml;\n",
       "          element.appendChild(docLink);\n",
       "        }\n",
       "      </script>\n",
       "    </div>\n",
       "  </div>\n",
       "  "
      ],
      "text/plain": [
       "                    Model  Accuracy       AUC  Precision    Recall\n",
       "0          CatBoost Plain  0.447795  0.584260   0.410890  0.420022\n",
       "0  CatBoost PSO Optimized  0.452983  0.587930   0.415399  0.418716\n",
       "0              LGBM Plain  0.407912  0.572193   0.395636  0.398591\n",
       "0      LGBM PSO Optimized  0.458820  0.595745   0.424719  0.422471\n",
       "0           XGBoost Plain  0.442931  0.583585   0.410330  0.415023\n",
       "0   XGBoost PSO Optimized  0.454604  0.587828   0.425988  0.426796\n",
       "0   Ensemble GA Optimized  0.457847  0.592578   0.422925  0.424566\n",
       "0          Ensemble Plain  0.459144  0.592858   0.424884  0.426198"
      ]
     },
     "execution_count": 70,
     "metadata": {},
     "output_type": "execute_result"
    }
   ],
   "source": [
    "df_comparison"
   ]
  },
  {
   "cell_type": "code",
   "execution_count": null,
   "metadata": {
    "id": "ur2zRNh3-5Pa"
   },
   "outputs": [],
   "source": [
    "# Define objective function with the cost decorator allows the defintion of the\n",
    "# objective function for one particle\n",
    "@ps.cost\n",
    "def parab(X):\n",
    "    cost = X[0]**2 + X[1]**2\n",
    "    return cost\n",
    "\n",
    "initpos = np.array([[-7,4],[12,23],[-4,8],[-9,-7],[-3,2]]) # Initial positions of the particles\n",
    "opt = IntOptimizerPSO(5,\n",
    "                      2,\n",
    "                      {\"c1\": 0.5, \"c2\": 0.3, \"w\": 1.9},\n",
    "                      initpos=initpos)\n",
    "\n",
    "c, p = opt.optimize(parab, 20)\n"
   ]
  }
 ],
 "metadata": {
  "colab": {
   "authorship_tag": "ABX9TyOMzaM0EuDhbg9bh14Ohrc/",
   "collapsed_sections": [],
   "mount_file_id": "1E_-ztezO3O0g0O4liw2VcOUxgR4zGF-g",
   "name": "IE-Experiment.ipynb",
   "provenance": []
  },
  "kernelspec": {
   "display_name": "Python 3 (ipykernel)",
   "language": "python",
   "name": "python3"
  },
  "language_info": {
   "codemirror_mode": {
    "name": "ipython",
    "version": 3
   },
   "file_extension": ".py",
   "mimetype": "text/x-python",
   "name": "python",
   "nbconvert_exporter": "python",
   "pygments_lexer": "ipython3",
   "version": "3.8.13"
  }
 },
 "nbformat": 4,
 "nbformat_minor": 1
}